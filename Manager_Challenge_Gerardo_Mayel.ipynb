{
  "nbformat": 4,
  "nbformat_minor": 0,
  "metadata": {
    "colab": {
      "name": "Manager_Challenge_Gerardo_Mayel.ipynb",
      "provenance": [],
      "collapsed_sections": [
        "nwV9bHx8Ak9i",
        "HMIhHvxTp-6x",
        "hX4xLM7hAsBa",
        "n4GcpMUO9xyn",
        "yGUH_MTHbIGO",
        "cBB8Dz5cLh6a"
      ],
      "authorship_tag": "ABX9TyNIpqkRNlD4s30n4onx9Nq8",
      "include_colab_link": true
    },
    "kernelspec": {
      "name": "python3",
      "display_name": "Python 3"
    },
    "language_info": {
      "name": "python"
    }
  },
  "cells": [
    {
      "cell_type": "markdown",
      "metadata": {
        "id": "view-in-github",
        "colab_type": "text"
      },
      "source": [
        "<a href=\"https://colab.research.google.com/github/GerardoMayel/manager_challenge/blob/main/Manager_Challenge_Gerardo_Mayel.ipynb\" target=\"_parent\"><img src=\"https://colab.research.google.com/assets/colab-badge.svg\" alt=\"Open In Colab\"/></a>"
      ]
    },
    {
      "cell_type": "markdown",
      "metadata": {
        "id": "hfjB4Ni_jRAQ"
      },
      "source": [
        "<H1>Technical Test / Manager Position / Gentera Jun 2021<H1>\n",
        "<H1>Cars Prices Prediction<H1>"
      ]
    },
    {
      "cell_type": "markdown",
      "metadata": {
        "id": "nwV9bHx8Ak9i"
      },
      "source": [
        "# Libraries:"
      ]
    },
    {
      "cell_type": "code",
      "metadata": {
        "colab": {
          "base_uri": "https://localhost:8080/"
        },
        "id": "0ntMi9DQBQL4",
        "outputId": "bb94d3d0-2134-48f7-9110-4d7435fdc3c7"
      },
      "source": [
        "!python --version"
      ],
      "execution_count": 1,
      "outputs": [
        {
          "output_type": "stream",
          "text": [
            "Python 3.7.10\n"
          ],
          "name": "stdout"
        }
      ]
    },
    {
      "cell_type": "code",
      "metadata": {
        "colab": {
          "base_uri": "https://localhost:8080/",
          "height": 35
        },
        "id": "9QURPcqoFZG2",
        "outputId": "d6971fa5-aed7-494a-c521-b3af889ceb6b"
      },
      "source": [
        "import os\n",
        "os.name"
      ],
      "execution_count": 2,
      "outputs": [
        {
          "output_type": "execute_result",
          "data": {
            "application/vnd.google.colaboratory.intrinsic+json": {
              "type": "string"
            },
            "text/plain": [
              "'posix'"
            ]
          },
          "metadata": {
            "tags": []
          },
          "execution_count": 2
        }
      ]
    },
    {
      "cell_type": "code",
      "metadata": {
        "colab": {
          "base_uri": "https://localhost:8080/",
          "height": 35
        },
        "id": "laWibgYnE2rc",
        "outputId": "5ee6b3f1-4fc7-49dd-87c5-8fc42f7c97ed"
      },
      "source": [
        "#scikit requires 1.11 numply version at least\n",
        "import numpy as np\n",
        "np.__version__"
      ],
      "execution_count": 3,
      "outputs": [
        {
          "output_type": "execute_result",
          "data": {
            "application/vnd.google.colaboratory.intrinsic+json": {
              "type": "string"
            },
            "text/plain": [
              "'1.19.5'"
            ]
          },
          "metadata": {
            "tags": []
          },
          "execution_count": 3
        }
      ]
    },
    {
      "cell_type": "code",
      "metadata": {
        "colab": {
          "base_uri": "https://localhost:8080/",
          "height": 35
        },
        "id": "1yzdwCTzG6n3",
        "outputId": "93b0a867-8765-4ac4-ead3-7e136245f42c"
      },
      "source": [
        "import scipy\n",
        "#from scipy import stats\n",
        "scipy.__version__"
      ],
      "execution_count": 4,
      "outputs": [
        {
          "output_type": "execute_result",
          "data": {
            "application/vnd.google.colaboratory.intrinsic+json": {
              "type": "string"
            },
            "text/plain": [
              "'1.4.1'"
            ]
          },
          "metadata": {
            "tags": []
          },
          "execution_count": 4
        }
      ]
    },
    {
      "cell_type": "code",
      "metadata": {
        "colab": {
          "base_uri": "https://localhost:8080/",
          "height": 35
        },
        "id": "sjFy0A8OKT9Y",
        "outputId": "08ec91d7-a88c-47ba-9fc6-cf4c17d905d5"
      },
      "source": [
        "##joblib\n",
        "import joblib\n",
        "joblib.__version__"
      ],
      "execution_count": 5,
      "outputs": [
        {
          "output_type": "execute_result",
          "data": {
            "application/vnd.google.colaboratory.intrinsic+json": {
              "type": "string"
            },
            "text/plain": [
              "'1.0.1'"
            ]
          },
          "metadata": {
            "tags": []
          },
          "execution_count": 5
        }
      ]
    },
    {
      "cell_type": "code",
      "metadata": {
        "colab": {
          "base_uri": "https://localhost:8080/",
          "height": 35
        },
        "id": "OTKA0WMDNY1m",
        "outputId": "4d92d1c5-47f1-4be1-946f-4984078dec51"
      },
      "source": [
        "##PANDAS\n",
        "import pandas as pd\n",
        "pd.__version__"
      ],
      "execution_count": 6,
      "outputs": [
        {
          "output_type": "execute_result",
          "data": {
            "application/vnd.google.colaboratory.intrinsic+json": {
              "type": "string"
            },
            "text/plain": [
              "'1.1.5'"
            ]
          },
          "metadata": {
            "tags": []
          },
          "execution_count": 6
        }
      ]
    },
    {
      "cell_type": "code",
      "metadata": {
        "colab": {
          "base_uri": "https://localhost:8080/"
        },
        "id": "KgYAuNjTNn-D",
        "outputId": "234efd5c-9ab8-49f0-99b8-7c068c9aa23a"
      },
      "source": [
        "##MATPLOTLIB\n",
        "import matplotlib\n",
        "print(matplotlib.__version__)\n",
        "import matplotlib.pyplot as plt"
      ],
      "execution_count": 7,
      "outputs": [
        {
          "output_type": "stream",
          "text": [
            "3.2.2\n"
          ],
          "name": "stdout"
        }
      ]
    },
    {
      "cell_type": "code",
      "metadata": {
        "colab": {
          "base_uri": "https://localhost:8080/",
          "height": 35
        },
        "id": "0_EgPxsLCreI",
        "outputId": "ae4176c0-6b94-4921-9e1e-cfd8e69d3c1c"
      },
      "source": [
        "#Seaborn\n",
        "import seaborn as sns\n",
        "sns.__version__"
      ],
      "execution_count": 8,
      "outputs": [
        {
          "output_type": "execute_result",
          "data": {
            "application/vnd.google.colaboratory.intrinsic+json": {
              "type": "string"
            },
            "text/plain": [
              "'0.11.1'"
            ]
          },
          "metadata": {
            "tags": []
          },
          "execution_count": 8
        }
      ]
    },
    {
      "cell_type": "code",
      "metadata": {
        "colab": {
          "base_uri": "https://localhost:8080/"
        },
        "id": "OzetbHmLN8G_",
        "outputId": "bb61cb58-2a61-47d2-ccb3-4453d53f4119"
      },
      "source": [
        "## Scikit Learn Library\n",
        "import sklearn\n",
        "print('The scikit-learn version is {}.'.format(sklearn.__version__))"
      ],
      "execution_count": 9,
      "outputs": [
        {
          "output_type": "stream",
          "text": [
            "The scikit-learn version is 0.22.2.post1.\n"
          ],
          "name": "stdout"
        }
      ]
    },
    {
      "cell_type": "code",
      "metadata": {
        "id": "PyxfT5zgq09S"
      },
      "source": [
        "#Models and regularization\n",
        "from sklearn.linear_model import LinearRegression\n",
        "from sklearn.linear_model import Lasso\n",
        "from sklearn.linear_model import Ridge\n",
        "\n",
        "from sklearn.model_selection import train_test_split\n",
        "\n",
        "from sklearn.linear_model import RANSACRegressor\n",
        "from sklearn.linear_model import HuberRegressor\n",
        "\n",
        "#Metrics and scoring: quantifying the quality of predictions\n",
        "#Regression:\n",
        "from sklearn.metrics import mean_squared_error\n",
        "#Mean Squared error regression loss, Parameters squared::False returns RMSE\n",
        "from sklearn.metrics import r2_score\n",
        "#Mean Absolute Erros\n",
        "from sklearn.metrics import mean_absolute_error"
      ],
      "execution_count": 10,
      "outputs": []
    },
    {
      "cell_type": "markdown",
      "metadata": {
        "id": "GPygEMmDp7Jn"
      },
      "source": [
        ""
      ]
    },
    {
      "cell_type": "markdown",
      "metadata": {
        "id": "HMIhHvxTp-6x"
      },
      "source": [
        "# Version Control using Git and Github:\n",
        "https://github.com/GerardoMayel/manager_challenge"
      ]
    },
    {
      "cell_type": "code",
      "metadata": {
        "colab": {
          "base_uri": "https://localhost:8080/"
        },
        "id": "6Lfr2IOnqNfb",
        "outputId": "9c1b597e-2dca-4a62-b381-65579952f78b"
      },
      "source": [
        "from google.colab import drive\n",
        "drive.mount('/content/drive')"
      ],
      "execution_count": 11,
      "outputs": [
        {
          "output_type": "stream",
          "text": [
            "Mounted at /content/drive\n"
          ],
          "name": "stdout"
        }
      ]
    },
    {
      "cell_type": "code",
      "metadata": {
        "colab": {
          "base_uri": "https://localhost:8080/"
        },
        "id": "qqTw-kZ0qSpR",
        "outputId": "a625fc49-ef14-457f-b336-be57da245c9c"
      },
      "source": [
        "%cd '/content/drive/My Drive/Manager_Gentera'"
      ],
      "execution_count": null,
      "outputs": [
        {
          "output_type": "stream",
          "text": [
            "/content/drive/My Drive/Manager_Gentera\n"
          ],
          "name": "stdout"
        }
      ]
    },
    {
      "cell_type": "code",
      "metadata": {
        "colab": {
          "base_uri": "https://localhost:8080/"
        },
        "id": "fVRZOxluqiV5",
        "outputId": "a5e2f4c8-7e95-4f3b-b967-9029ec5a81f1"
      },
      "source": [
        "!git init"
      ],
      "execution_count": null,
      "outputs": [
        {
          "output_type": "stream",
          "text": [
            "Reinitialized existing Git repository in /content/drive/My Drive/Manager_Gentera/.git/\n"
          ],
          "name": "stdout"
        }
      ]
    },
    {
      "cell_type": "code",
      "metadata": {
        "colab": {
          "base_uri": "https://localhost:8080/"
        },
        "id": "A0cUsg57weUH",
        "outputId": "7eb577ad-db3a-4927-d0de-b74d27e88fd9"
      },
      "source": [
        "!git status"
      ],
      "execution_count": null,
      "outputs": [
        {
          "output_type": "stream",
          "text": [
            "On branch master\n",
            "\n",
            "No commits yet\n",
            "\n",
            "Untracked files:\n",
            "  (use \"git add <file>...\" to include in what will be committed)\n",
            "\n",
            "\t\u001b[31mManager_Challenge_Gerardo_Mayel.ipynb\u001b[m\n",
            "\t\u001b[31mdata/\u001b[m\n",
            "\t\u001b[31munclean_data/\u001b[m\n",
            "\n",
            "nothing added to commit but untracked files present (use \"git add\" to track)\n"
          ],
          "name": "stdout"
        }
      ]
    },
    {
      "cell_type": "markdown",
      "metadata": {
        "id": "hX4xLM7hAsBa"
      },
      "source": [
        "# Data ETL (Extract / Transform / Load):"
      ]
    },
    {
      "cell_type": "markdown",
      "metadata": {
        "id": "QnTk92heEwZ5"
      },
      "source": [
        "<H1>Extracting Data<H1>"
      ]
    },
    {
      "cell_type": "code",
      "metadata": {
        "id": "xfsjIsKFQlBe",
        "colab": {
          "base_uri": "https://localhost:8080/"
        },
        "outputId": "5d0914a3-f25d-4eac-abc2-9e7de90268ea"
      },
      "source": [
        "%cd '/content/drive/My Drive/Manager_Gentera/unclean_data'"
      ],
      "execution_count": 12,
      "outputs": [
        {
          "output_type": "stream",
          "text": [
            "/content/drive/My Drive/Manager_Gentera/unclean_data\n"
          ],
          "name": "stdout"
        }
      ]
    },
    {
      "cell_type": "code",
      "metadata": {
        "colab": {
          "base_uri": "https://localhost:8080/"
        },
        "id": "n5hni5vmQnfQ",
        "outputId": "4e990563-2d86-4cb0-fd9e-f3130e2f381f"
      },
      "source": [
        "!ls"
      ],
      "execution_count": 13,
      "outputs": [
        {
          "output_type": "stream",
          "text": [
            " cclass.csv   focus.csv  'unclean cclass.csv'  'unclean focus.csv'\n"
          ],
          "name": "stdout"
        }
      ]
    },
    {
      "cell_type": "markdown",
      "metadata": {
        "id": "YHlZP0YoERuj"
      },
      "source": [
        "<H1>Data Cleaning<H1>\n",
        "\n",
        "\n",
        "---\n",
        "\n"
      ]
    },
    {
      "cell_type": "markdown",
      "metadata": {
        "id": "DuCuJgQ1ufvC"
      },
      "source": [
        "<H4>Handling Missing Values<H4>\n",
        "\n",
        "Focus and C-Class are already included in the main Datasets, will not be included until verify data consistency, Missing values could be filled with mean or with an additional model."
      ]
    },
    {
      "cell_type": "code",
      "metadata": {
        "colab": {
          "base_uri": "https://localhost:8080/",
          "height": 422
        },
        "id": "gOEE3TpAGw60",
        "outputId": "d23c1fc8-d53c-4bc1-9a34-8796ef87a88b"
      },
      "source": [
        "#model\tyear\tprice\ttransmission\tmileage\tfuelType\ttax\tmpg\tengineSize\n",
        "df_focus = pd.read_csv('focus.csv').drop_duplicates()\n",
        "df_focus"
      ],
      "execution_count": 14,
      "outputs": [
        {
          "output_type": "execute_result",
          "data": {
            "text/html": [
              "<div>\n",
              "<style scoped>\n",
              "    .dataframe tbody tr th:only-of-type {\n",
              "        vertical-align: middle;\n",
              "    }\n",
              "\n",
              "    .dataframe tbody tr th {\n",
              "        vertical-align: top;\n",
              "    }\n",
              "\n",
              "    .dataframe thead th {\n",
              "        text-align: right;\n",
              "    }\n",
              "</style>\n",
              "<table border=\"1\" class=\"dataframe\">\n",
              "  <thead>\n",
              "    <tr style=\"text-align: right;\">\n",
              "      <th></th>\n",
              "      <th>model</th>\n",
              "      <th>year</th>\n",
              "      <th>price</th>\n",
              "      <th>transmission</th>\n",
              "      <th>mileage</th>\n",
              "      <th>fuelType</th>\n",
              "      <th>engineSize</th>\n",
              "    </tr>\n",
              "  </thead>\n",
              "  <tbody>\n",
              "    <tr>\n",
              "      <th>0</th>\n",
              "      <td>Focus</td>\n",
              "      <td>2016</td>\n",
              "      <td>8000</td>\n",
              "      <td>Manual</td>\n",
              "      <td>38852</td>\n",
              "      <td>Petrol</td>\n",
              "      <td>1.0</td>\n",
              "    </tr>\n",
              "    <tr>\n",
              "      <th>1</th>\n",
              "      <td>Focus</td>\n",
              "      <td>2019</td>\n",
              "      <td>13400</td>\n",
              "      <td>Manual</td>\n",
              "      <td>11952</td>\n",
              "      <td>Petrol</td>\n",
              "      <td>1.0</td>\n",
              "    </tr>\n",
              "    <tr>\n",
              "      <th>2</th>\n",
              "      <td>Focus</td>\n",
              "      <td>2019</td>\n",
              "      <td>14600</td>\n",
              "      <td>Manual</td>\n",
              "      <td>22142</td>\n",
              "      <td>Petrol</td>\n",
              "      <td>1.5</td>\n",
              "    </tr>\n",
              "    <tr>\n",
              "      <th>3</th>\n",
              "      <td>Focus</td>\n",
              "      <td>2016</td>\n",
              "      <td>9450</td>\n",
              "      <td>Manual</td>\n",
              "      <td>14549</td>\n",
              "      <td>Diesel</td>\n",
              "      <td>1.6</td>\n",
              "    </tr>\n",
              "    <tr>\n",
              "      <th>4</th>\n",
              "      <td>Focus</td>\n",
              "      <td>2015</td>\n",
              "      <td>9999</td>\n",
              "      <td>Manual</td>\n",
              "      <td>7010</td>\n",
              "      <td>Diesel</td>\n",
              "      <td>1.6</td>\n",
              "    </tr>\n",
              "    <tr>\n",
              "      <th>...</th>\n",
              "      <td>...</td>\n",
              "      <td>...</td>\n",
              "      <td>...</td>\n",
              "      <td>...</td>\n",
              "      <td>...</td>\n",
              "      <td>...</td>\n",
              "      <td>...</td>\n",
              "    </tr>\n",
              "    <tr>\n",
              "      <th>5412</th>\n",
              "      <td>Focus</td>\n",
              "      <td>2018</td>\n",
              "      <td>12995</td>\n",
              "      <td>Manual</td>\n",
              "      <td>17161</td>\n",
              "      <td>Petrol</td>\n",
              "      <td>1.0</td>\n",
              "    </tr>\n",
              "    <tr>\n",
              "      <th>5413</th>\n",
              "      <td>Focus</td>\n",
              "      <td>2014</td>\n",
              "      <td>5995</td>\n",
              "      <td>Manual</td>\n",
              "      <td>36500</td>\n",
              "      <td>Diesel</td>\n",
              "      <td>1.6</td>\n",
              "    </tr>\n",
              "    <tr>\n",
              "      <th>5414</th>\n",
              "      <td>Focus</td>\n",
              "      <td>2019</td>\n",
              "      <td>17499</td>\n",
              "      <td>Automatic</td>\n",
              "      <td>1478</td>\n",
              "      <td>Petrol</td>\n",
              "      <td>1.0</td>\n",
              "    </tr>\n",
              "    <tr>\n",
              "      <th>5415</th>\n",
              "      <td>Focus</td>\n",
              "      <td>2006</td>\n",
              "      <td>1495</td>\n",
              "      <td>Manual</td>\n",
              "      <td>105000</td>\n",
              "      <td>Diesel</td>\n",
              "      <td>1.6</td>\n",
              "    </tr>\n",
              "    <tr>\n",
              "      <th>5432</th>\n",
              "      <td>Focus</td>\n",
              "      <td>2019</td>\n",
              "      <td>17450</td>\n",
              "      <td>Automatic</td>\n",
              "      <td>13815</td>\n",
              "      <td>Petrol</td>\n",
              "      <td>1.0</td>\n",
              "    </tr>\n",
              "  </tbody>\n",
              "</table>\n",
              "<p>4758 rows × 7 columns</p>\n",
              "</div>"
            ],
            "text/plain": [
              "       model  year  price transmission  mileage fuelType  engineSize\n",
              "0      Focus  2016   8000       Manual    38852   Petrol         1.0\n",
              "1      Focus  2019  13400       Manual    11952   Petrol         1.0\n",
              "2      Focus  2019  14600       Manual    22142   Petrol         1.5\n",
              "3      Focus  2016   9450       Manual    14549   Diesel         1.6\n",
              "4      Focus  2015   9999       Manual     7010   Diesel         1.6\n",
              "...      ...   ...    ...          ...      ...      ...         ...\n",
              "5412   Focus  2018  12995       Manual    17161   Petrol         1.0\n",
              "5413   Focus  2014   5995       Manual    36500   Diesel         1.6\n",
              "5414   Focus  2019  17499    Automatic     1478   Petrol         1.0\n",
              "5415   Focus  2006   1495       Manual   105000   Diesel         1.6\n",
              "5432   Focus  2019  17450    Automatic    13815   Petrol         1.0\n",
              "\n",
              "[4758 rows x 7 columns]"
            ]
          },
          "metadata": {
            "tags": []
          },
          "execution_count": 14
        }
      ]
    },
    {
      "cell_type": "code",
      "metadata": {
        "colab": {
          "base_uri": "https://localhost:8080/",
          "height": 439
        },
        "id": "R5ulauB6HSSx",
        "outputId": "9af4675a-b9c5-4979-ebe3-b77d6cdb15ed"
      },
      "source": [
        "#model\tyear\tprice\ttransmission\tmileage\tfuelType\ttax\tmpg\tengineSize\n",
        "df_focus_unclean = pd.read_csv('unclean focus.csv').drop_duplicates()\n",
        "df_focus_unclean"
      ],
      "execution_count": 15,
      "outputs": [
        {
          "output_type": "execute_result",
          "data": {
            "text/html": [
              "<div>\n",
              "<style scoped>\n",
              "    .dataframe tbody tr th:only-of-type {\n",
              "        vertical-align: middle;\n",
              "    }\n",
              "\n",
              "    .dataframe tbody tr th {\n",
              "        vertical-align: top;\n",
              "    }\n",
              "\n",
              "    .dataframe thead th {\n",
              "        text-align: right;\n",
              "    }\n",
              "</style>\n",
              "<table border=\"1\" class=\"dataframe\">\n",
              "  <thead>\n",
              "    <tr style=\"text-align: right;\">\n",
              "      <th></th>\n",
              "      <th>model</th>\n",
              "      <th>year</th>\n",
              "      <th>price</th>\n",
              "      <th>transmission</th>\n",
              "      <th>mileage</th>\n",
              "      <th>fuel type</th>\n",
              "      <th>engine size</th>\n",
              "      <th>mileage2</th>\n",
              "      <th>fuel type2</th>\n",
              "      <th>engine size2</th>\n",
              "      <th>reference</th>\n",
              "    </tr>\n",
              "  </thead>\n",
              "  <tbody>\n",
              "    <tr>\n",
              "      <th>0</th>\n",
              "      <td>Focus</td>\n",
              "      <td>2016.0</td>\n",
              "      <td>£8,000</td>\n",
              "      <td>Manual</td>\n",
              "      <td>NaN</td>\n",
              "      <td>Petrol</td>\n",
              "      <td>0.999</td>\n",
              "      <td>38,852</td>\n",
              "      <td>NaN</td>\n",
              "      <td>NaN</td>\n",
              "      <td>/ad/25451236</td>\n",
              "    </tr>\n",
              "    <tr>\n",
              "      <th>1</th>\n",
              "      <td>Focus</td>\n",
              "      <td>2019.0</td>\n",
              "      <td>£13,400</td>\n",
              "      <td>Manual</td>\n",
              "      <td>NaN</td>\n",
              "      <td>Petrol</td>\n",
              "      <td>0.999</td>\n",
              "      <td>11,952</td>\n",
              "      <td>NaN</td>\n",
              "      <td>NaN</td>\n",
              "      <td>/ad/25466927</td>\n",
              "    </tr>\n",
              "    <tr>\n",
              "      <th>2</th>\n",
              "      <td>Focus</td>\n",
              "      <td>2019.0</td>\n",
              "      <td>£14,600</td>\n",
              "      <td>Manual</td>\n",
              "      <td>NaN</td>\n",
              "      <td>Petrol</td>\n",
              "      <td>1.498</td>\n",
              "      <td>22,142</td>\n",
              "      <td>NaN</td>\n",
              "      <td>NaN</td>\n",
              "      <td>/ad/25484363</td>\n",
              "    </tr>\n",
              "    <tr>\n",
              "      <th>3</th>\n",
              "      <td>Focus</td>\n",
              "      <td>2016.0</td>\n",
              "      <td>£9,450</td>\n",
              "      <td>Manual</td>\n",
              "      <td>NaN</td>\n",
              "      <td>Diesel</td>\n",
              "      <td>1.56</td>\n",
              "      <td>14,549</td>\n",
              "      <td>NaN</td>\n",
              "      <td>NaN</td>\n",
              "      <td>/ad/20444868</td>\n",
              "    </tr>\n",
              "    <tr>\n",
              "      <th>4</th>\n",
              "      <td>Focus</td>\n",
              "      <td>2015.0</td>\n",
              "      <td>£9,999</td>\n",
              "      <td>Manual</td>\n",
              "      <td>NaN</td>\n",
              "      <td>Diesel</td>\n",
              "      <td>1.56</td>\n",
              "      <td>7,010</td>\n",
              "      <td>NaN</td>\n",
              "      <td>NaN</td>\n",
              "      <td>/ad/22551057</td>\n",
              "    </tr>\n",
              "    <tr>\n",
              "      <th>...</th>\n",
              "      <td>...</td>\n",
              "      <td>...</td>\n",
              "      <td>...</td>\n",
              "      <td>...</td>\n",
              "      <td>...</td>\n",
              "      <td>...</td>\n",
              "      <td>...</td>\n",
              "      <td>...</td>\n",
              "      <td>...</td>\n",
              "      <td>...</td>\n",
              "      <td>...</td>\n",
              "    </tr>\n",
              "    <tr>\n",
              "      <th>5599</th>\n",
              "      <td>Focus</td>\n",
              "      <td>2019.0</td>\n",
              "      <td>£18,745</td>\n",
              "      <td>Manual</td>\n",
              "      <td>NaN</td>\n",
              "      <td>Diesel</td>\n",
              "      <td>2</td>\n",
              "      <td>7,855</td>\n",
              "      <td>NaN</td>\n",
              "      <td>NaN</td>\n",
              "      <td>/ad/25149519</td>\n",
              "    </tr>\n",
              "    <tr>\n",
              "      <th>5600</th>\n",
              "      <td>Focus</td>\n",
              "      <td>2019.0</td>\n",
              "      <td>£16,350</td>\n",
              "      <td>Manual</td>\n",
              "      <td>NaN</td>\n",
              "      <td>Petrol</td>\n",
              "      <td>1</td>\n",
              "      <td>13,891</td>\n",
              "      <td>NaN</td>\n",
              "      <td>NaN</td>\n",
              "      <td>/ad/25149523</td>\n",
              "    </tr>\n",
              "    <tr>\n",
              "      <th>5601</th>\n",
              "      <td>Focus</td>\n",
              "      <td>2019.0</td>\n",
              "      <td>£16,850</td>\n",
              "      <td>Manual</td>\n",
              "      <td>NaN</td>\n",
              "      <td>Petrol</td>\n",
              "      <td>1</td>\n",
              "      <td>13,452</td>\n",
              "      <td>NaN</td>\n",
              "      <td>NaN</td>\n",
              "      <td>/ad/25149532</td>\n",
              "    </tr>\n",
              "    <tr>\n",
              "      <th>5602</th>\n",
              "      <td>Focus</td>\n",
              "      <td>2019.0</td>\n",
              "      <td>£17,310</td>\n",
              "      <td>Automatic</td>\n",
              "      <td>NaN</td>\n",
              "      <td>Petrol</td>\n",
              "      <td>1</td>\n",
              "      <td>13,376</td>\n",
              "      <td>NaN</td>\n",
              "      <td>NaN</td>\n",
              "      <td>/ad/25149535</td>\n",
              "    </tr>\n",
              "    <tr>\n",
              "      <th>5603</th>\n",
              "      <td>Focus</td>\n",
              "      <td>2019.0</td>\n",
              "      <td>£17,610</td>\n",
              "      <td>Automatic</td>\n",
              "      <td>NaN</td>\n",
              "      <td>Petrol</td>\n",
              "      <td>1</td>\n",
              "      <td>7,886</td>\n",
              "      <td>NaN</td>\n",
              "      <td>NaN</td>\n",
              "      <td>/ad/25149536</td>\n",
              "    </tr>\n",
              "  </tbody>\n",
              "</table>\n",
              "<p>5549 rows × 11 columns</p>\n",
              "</div>"
            ],
            "text/plain": [
              "       model    year     price  ... fuel type2 engine size2     reference\n",
              "0      Focus  2016.0    £8,000  ...        NaN          NaN  /ad/25451236\n",
              "1      Focus  2019.0   £13,400  ...        NaN          NaN  /ad/25466927\n",
              "2      Focus  2019.0   £14,600  ...        NaN          NaN  /ad/25484363\n",
              "3      Focus  2016.0    £9,450  ...        NaN          NaN  /ad/20444868\n",
              "4      Focus  2015.0    £9,999  ...        NaN          NaN  /ad/22551057\n",
              "...      ...     ...       ...  ...        ...          ...           ...\n",
              "5599   Focus  2019.0   £18,745  ...        NaN          NaN  /ad/25149519\n",
              "5600   Focus  2019.0   £16,350  ...        NaN          NaN  /ad/25149523\n",
              "5601   Focus  2019.0   £16,850  ...        NaN          NaN  /ad/25149532\n",
              "5602   Focus  2019.0   £17,310  ...        NaN          NaN  /ad/25149535\n",
              "5603   Focus  2019.0   £17,610  ...        NaN          NaN  /ad/25149536\n",
              "\n",
              "[5549 rows x 11 columns]"
            ]
          },
          "metadata": {
            "tags": []
          },
          "execution_count": 15
        }
      ]
    },
    {
      "cell_type": "code",
      "metadata": {
        "colab": {
          "base_uri": "https://localhost:8080/",
          "height": 422
        },
        "id": "B_kL0hQ-JSu2",
        "outputId": "12b27dc4-2750-4777-eb2e-6aded97de900"
      },
      "source": [
        "df_cclass = pd.read_csv('cclass.csv').drop_duplicates()\n",
        "df_cclass"
      ],
      "execution_count": 16,
      "outputs": [
        {
          "output_type": "execute_result",
          "data": {
            "text/html": [
              "<div>\n",
              "<style scoped>\n",
              "    .dataframe tbody tr th:only-of-type {\n",
              "        vertical-align: middle;\n",
              "    }\n",
              "\n",
              "    .dataframe tbody tr th {\n",
              "        vertical-align: top;\n",
              "    }\n",
              "\n",
              "    .dataframe thead th {\n",
              "        text-align: right;\n",
              "    }\n",
              "</style>\n",
              "<table border=\"1\" class=\"dataframe\">\n",
              "  <thead>\n",
              "    <tr style=\"text-align: right;\">\n",
              "      <th></th>\n",
              "      <th>model</th>\n",
              "      <th>year</th>\n",
              "      <th>price</th>\n",
              "      <th>transmission</th>\n",
              "      <th>mileage</th>\n",
              "      <th>fuelType</th>\n",
              "      <th>engineSize</th>\n",
              "    </tr>\n",
              "  </thead>\n",
              "  <tbody>\n",
              "    <tr>\n",
              "      <th>0</th>\n",
              "      <td>C Class</td>\n",
              "      <td>2020</td>\n",
              "      <td>30495</td>\n",
              "      <td>Automatic</td>\n",
              "      <td>1200</td>\n",
              "      <td>Diesel</td>\n",
              "      <td>2.0</td>\n",
              "    </tr>\n",
              "    <tr>\n",
              "      <th>1</th>\n",
              "      <td>C Class</td>\n",
              "      <td>2020</td>\n",
              "      <td>29989</td>\n",
              "      <td>Automatic</td>\n",
              "      <td>1000</td>\n",
              "      <td>Petrol</td>\n",
              "      <td>1.5</td>\n",
              "    </tr>\n",
              "    <tr>\n",
              "      <th>2</th>\n",
              "      <td>C Class</td>\n",
              "      <td>2020</td>\n",
              "      <td>37899</td>\n",
              "      <td>Automatic</td>\n",
              "      <td>500</td>\n",
              "      <td>Diesel</td>\n",
              "      <td>2.0</td>\n",
              "    </tr>\n",
              "    <tr>\n",
              "      <th>3</th>\n",
              "      <td>C Class</td>\n",
              "      <td>2019</td>\n",
              "      <td>30399</td>\n",
              "      <td>Automatic</td>\n",
              "      <td>5000</td>\n",
              "      <td>Diesel</td>\n",
              "      <td>2.0</td>\n",
              "    </tr>\n",
              "    <tr>\n",
              "      <th>4</th>\n",
              "      <td>C Class</td>\n",
              "      <td>2019</td>\n",
              "      <td>29899</td>\n",
              "      <td>Automatic</td>\n",
              "      <td>4500</td>\n",
              "      <td>Diesel</td>\n",
              "      <td>2.0</td>\n",
              "    </tr>\n",
              "    <tr>\n",
              "      <th>...</th>\n",
              "      <td>...</td>\n",
              "      <td>...</td>\n",
              "      <td>...</td>\n",
              "      <td>...</td>\n",
              "      <td>...</td>\n",
              "      <td>...</td>\n",
              "      <td>...</td>\n",
              "    </tr>\n",
              "    <tr>\n",
              "      <th>3894</th>\n",
              "      <td>C Class</td>\n",
              "      <td>2017</td>\n",
              "      <td>14700</td>\n",
              "      <td>Manual</td>\n",
              "      <td>31357</td>\n",
              "      <td>Diesel</td>\n",
              "      <td>1.6</td>\n",
              "    </tr>\n",
              "    <tr>\n",
              "      <th>3895</th>\n",
              "      <td>C Class</td>\n",
              "      <td>2018</td>\n",
              "      <td>18500</td>\n",
              "      <td>Automatic</td>\n",
              "      <td>28248</td>\n",
              "      <td>Diesel</td>\n",
              "      <td>2.1</td>\n",
              "    </tr>\n",
              "    <tr>\n",
              "      <th>3896</th>\n",
              "      <td>C Class</td>\n",
              "      <td>2014</td>\n",
              "      <td>11900</td>\n",
              "      <td>Manual</td>\n",
              "      <td>48055</td>\n",
              "      <td>Diesel</td>\n",
              "      <td>2.1</td>\n",
              "    </tr>\n",
              "    <tr>\n",
              "      <th>3897</th>\n",
              "      <td>C Class</td>\n",
              "      <td>2014</td>\n",
              "      <td>11300</td>\n",
              "      <td>Automatic</td>\n",
              "      <td>49865</td>\n",
              "      <td>Diesel</td>\n",
              "      <td>2.1</td>\n",
              "    </tr>\n",
              "    <tr>\n",
              "      <th>3898</th>\n",
              "      <td>C Class</td>\n",
              "      <td>2014</td>\n",
              "      <td>14800</td>\n",
              "      <td>Automatic</td>\n",
              "      <td>55445</td>\n",
              "      <td>Diesel</td>\n",
              "      <td>2.1</td>\n",
              "    </tr>\n",
              "  </tbody>\n",
              "</table>\n",
              "<p>3797 rows × 7 columns</p>\n",
              "</div>"
            ],
            "text/plain": [
              "         model  year  price transmission  mileage fuelType  engineSize\n",
              "0      C Class  2020  30495    Automatic     1200   Diesel         2.0\n",
              "1      C Class  2020  29989    Automatic     1000   Petrol         1.5\n",
              "2      C Class  2020  37899    Automatic      500   Diesel         2.0\n",
              "3      C Class  2019  30399    Automatic     5000   Diesel         2.0\n",
              "4      C Class  2019  29899    Automatic     4500   Diesel         2.0\n",
              "...        ...   ...    ...          ...      ...      ...         ...\n",
              "3894   C Class  2017  14700       Manual    31357   Diesel         1.6\n",
              "3895   C Class  2018  18500    Automatic    28248   Diesel         2.1\n",
              "3896   C Class  2014  11900       Manual    48055   Diesel         2.1\n",
              "3897   C Class  2014  11300    Automatic    49865   Diesel         2.1\n",
              "3898   C Class  2014  14800    Automatic    55445   Diesel         2.1\n",
              "\n",
              "[3797 rows x 7 columns]"
            ]
          },
          "metadata": {
            "tags": []
          },
          "execution_count": 16
        }
      ]
    },
    {
      "cell_type": "code",
      "metadata": {
        "colab": {
          "base_uri": "https://localhost:8080/",
          "height": 439
        },
        "id": "OIsWL1tVJmuL",
        "outputId": "bd1ea2c3-9451-4b86-8282-0f0b1d29b04a"
      },
      "source": [
        "df_cclass_unclean = pd.read_csv('unclean cclass.csv').drop_duplicates()\n",
        "df_focus_unclean"
      ],
      "execution_count": 17,
      "outputs": [
        {
          "output_type": "execute_result",
          "data": {
            "text/html": [
              "<div>\n",
              "<style scoped>\n",
              "    .dataframe tbody tr th:only-of-type {\n",
              "        vertical-align: middle;\n",
              "    }\n",
              "\n",
              "    .dataframe tbody tr th {\n",
              "        vertical-align: top;\n",
              "    }\n",
              "\n",
              "    .dataframe thead th {\n",
              "        text-align: right;\n",
              "    }\n",
              "</style>\n",
              "<table border=\"1\" class=\"dataframe\">\n",
              "  <thead>\n",
              "    <tr style=\"text-align: right;\">\n",
              "      <th></th>\n",
              "      <th>model</th>\n",
              "      <th>year</th>\n",
              "      <th>price</th>\n",
              "      <th>transmission</th>\n",
              "      <th>mileage</th>\n",
              "      <th>fuel type</th>\n",
              "      <th>engine size</th>\n",
              "      <th>mileage2</th>\n",
              "      <th>fuel type2</th>\n",
              "      <th>engine size2</th>\n",
              "      <th>reference</th>\n",
              "    </tr>\n",
              "  </thead>\n",
              "  <tbody>\n",
              "    <tr>\n",
              "      <th>0</th>\n",
              "      <td>Focus</td>\n",
              "      <td>2016.0</td>\n",
              "      <td>£8,000</td>\n",
              "      <td>Manual</td>\n",
              "      <td>NaN</td>\n",
              "      <td>Petrol</td>\n",
              "      <td>0.999</td>\n",
              "      <td>38,852</td>\n",
              "      <td>NaN</td>\n",
              "      <td>NaN</td>\n",
              "      <td>/ad/25451236</td>\n",
              "    </tr>\n",
              "    <tr>\n",
              "      <th>1</th>\n",
              "      <td>Focus</td>\n",
              "      <td>2019.0</td>\n",
              "      <td>£13,400</td>\n",
              "      <td>Manual</td>\n",
              "      <td>NaN</td>\n",
              "      <td>Petrol</td>\n",
              "      <td>0.999</td>\n",
              "      <td>11,952</td>\n",
              "      <td>NaN</td>\n",
              "      <td>NaN</td>\n",
              "      <td>/ad/25466927</td>\n",
              "    </tr>\n",
              "    <tr>\n",
              "      <th>2</th>\n",
              "      <td>Focus</td>\n",
              "      <td>2019.0</td>\n",
              "      <td>£14,600</td>\n",
              "      <td>Manual</td>\n",
              "      <td>NaN</td>\n",
              "      <td>Petrol</td>\n",
              "      <td>1.498</td>\n",
              "      <td>22,142</td>\n",
              "      <td>NaN</td>\n",
              "      <td>NaN</td>\n",
              "      <td>/ad/25484363</td>\n",
              "    </tr>\n",
              "    <tr>\n",
              "      <th>3</th>\n",
              "      <td>Focus</td>\n",
              "      <td>2016.0</td>\n",
              "      <td>£9,450</td>\n",
              "      <td>Manual</td>\n",
              "      <td>NaN</td>\n",
              "      <td>Diesel</td>\n",
              "      <td>1.56</td>\n",
              "      <td>14,549</td>\n",
              "      <td>NaN</td>\n",
              "      <td>NaN</td>\n",
              "      <td>/ad/20444868</td>\n",
              "    </tr>\n",
              "    <tr>\n",
              "      <th>4</th>\n",
              "      <td>Focus</td>\n",
              "      <td>2015.0</td>\n",
              "      <td>£9,999</td>\n",
              "      <td>Manual</td>\n",
              "      <td>NaN</td>\n",
              "      <td>Diesel</td>\n",
              "      <td>1.56</td>\n",
              "      <td>7,010</td>\n",
              "      <td>NaN</td>\n",
              "      <td>NaN</td>\n",
              "      <td>/ad/22551057</td>\n",
              "    </tr>\n",
              "    <tr>\n",
              "      <th>...</th>\n",
              "      <td>...</td>\n",
              "      <td>...</td>\n",
              "      <td>...</td>\n",
              "      <td>...</td>\n",
              "      <td>...</td>\n",
              "      <td>...</td>\n",
              "      <td>...</td>\n",
              "      <td>...</td>\n",
              "      <td>...</td>\n",
              "      <td>...</td>\n",
              "      <td>...</td>\n",
              "    </tr>\n",
              "    <tr>\n",
              "      <th>5599</th>\n",
              "      <td>Focus</td>\n",
              "      <td>2019.0</td>\n",
              "      <td>£18,745</td>\n",
              "      <td>Manual</td>\n",
              "      <td>NaN</td>\n",
              "      <td>Diesel</td>\n",
              "      <td>2</td>\n",
              "      <td>7,855</td>\n",
              "      <td>NaN</td>\n",
              "      <td>NaN</td>\n",
              "      <td>/ad/25149519</td>\n",
              "    </tr>\n",
              "    <tr>\n",
              "      <th>5600</th>\n",
              "      <td>Focus</td>\n",
              "      <td>2019.0</td>\n",
              "      <td>£16,350</td>\n",
              "      <td>Manual</td>\n",
              "      <td>NaN</td>\n",
              "      <td>Petrol</td>\n",
              "      <td>1</td>\n",
              "      <td>13,891</td>\n",
              "      <td>NaN</td>\n",
              "      <td>NaN</td>\n",
              "      <td>/ad/25149523</td>\n",
              "    </tr>\n",
              "    <tr>\n",
              "      <th>5601</th>\n",
              "      <td>Focus</td>\n",
              "      <td>2019.0</td>\n",
              "      <td>£16,850</td>\n",
              "      <td>Manual</td>\n",
              "      <td>NaN</td>\n",
              "      <td>Petrol</td>\n",
              "      <td>1</td>\n",
              "      <td>13,452</td>\n",
              "      <td>NaN</td>\n",
              "      <td>NaN</td>\n",
              "      <td>/ad/25149532</td>\n",
              "    </tr>\n",
              "    <tr>\n",
              "      <th>5602</th>\n",
              "      <td>Focus</td>\n",
              "      <td>2019.0</td>\n",
              "      <td>£17,310</td>\n",
              "      <td>Automatic</td>\n",
              "      <td>NaN</td>\n",
              "      <td>Petrol</td>\n",
              "      <td>1</td>\n",
              "      <td>13,376</td>\n",
              "      <td>NaN</td>\n",
              "      <td>NaN</td>\n",
              "      <td>/ad/25149535</td>\n",
              "    </tr>\n",
              "    <tr>\n",
              "      <th>5603</th>\n",
              "      <td>Focus</td>\n",
              "      <td>2019.0</td>\n",
              "      <td>£17,610</td>\n",
              "      <td>Automatic</td>\n",
              "      <td>NaN</td>\n",
              "      <td>Petrol</td>\n",
              "      <td>1</td>\n",
              "      <td>7,886</td>\n",
              "      <td>NaN</td>\n",
              "      <td>NaN</td>\n",
              "      <td>/ad/25149536</td>\n",
              "    </tr>\n",
              "  </tbody>\n",
              "</table>\n",
              "<p>5549 rows × 11 columns</p>\n",
              "</div>"
            ],
            "text/plain": [
              "       model    year     price  ... fuel type2 engine size2     reference\n",
              "0      Focus  2016.0    £8,000  ...        NaN          NaN  /ad/25451236\n",
              "1      Focus  2019.0   £13,400  ...        NaN          NaN  /ad/25466927\n",
              "2      Focus  2019.0   £14,600  ...        NaN          NaN  /ad/25484363\n",
              "3      Focus  2016.0    £9,450  ...        NaN          NaN  /ad/20444868\n",
              "4      Focus  2015.0    £9,999  ...        NaN          NaN  /ad/22551057\n",
              "...      ...     ...       ...  ...        ...          ...           ...\n",
              "5599   Focus  2019.0   £18,745  ...        NaN          NaN  /ad/25149519\n",
              "5600   Focus  2019.0   £16,350  ...        NaN          NaN  /ad/25149523\n",
              "5601   Focus  2019.0   £16,850  ...        NaN          NaN  /ad/25149532\n",
              "5602   Focus  2019.0   £17,310  ...        NaN          NaN  /ad/25149535\n",
              "5603   Focus  2019.0   £17,610  ...        NaN          NaN  /ad/25149536\n",
              "\n",
              "[5549 rows x 11 columns]"
            ]
          },
          "metadata": {
            "tags": []
          },
          "execution_count": 17
        }
      ]
    },
    {
      "cell_type": "markdown",
      "metadata": {
        "id": "JXXof1Djj5ZH"
      },
      "source": [
        "<H1>Loading Data:<H1>"
      ]
    },
    {
      "cell_type": "code",
      "metadata": {
        "colab": {
          "base_uri": "https://localhost:8080/"
        },
        "id": "uTbOPjR8ka8p",
        "outputId": "1aa83b8f-3fca-4b51-e048-fe72099132d4"
      },
      "source": [
        "%cd '/content/drive/My Drive/Manager_Gentera/data'"
      ],
      "execution_count": 18,
      "outputs": [
        {
          "output_type": "stream",
          "text": [
            "/content/drive/My Drive/Manager_Gentera/data\n"
          ],
          "name": "stdout"
        }
      ]
    },
    {
      "cell_type": "code",
      "metadata": {
        "colab": {
          "base_uri": "https://localhost:8080/"
        },
        "id": "mFjLhcLN1Qqg",
        "outputId": "e2e6e625-ebff-4e9c-dcf1-0b07920b5e65"
      },
      "source": [
        "!pwd"
      ],
      "execution_count": 19,
      "outputs": [
        {
          "output_type": "stream",
          "text": [
            "/content/drive/My Drive/Manager_Gentera/data\n"
          ],
          "name": "stdout"
        }
      ]
    },
    {
      "cell_type": "code",
      "metadata": {
        "colab": {
          "base_uri": "https://localhost:8080/"
        },
        "id": "PYT6Lyq5lHjA",
        "outputId": "c9c032f4-45a7-4230-ad90-6be6f31eee67"
      },
      "source": [
        "!ls"
      ],
      "execution_count": 20,
      "outputs": [
        {
          "output_type": "stream",
          "text": [
            "audi.csv  ford.csv     merc.csv   toyota.csv\tvw.csv\n",
            "bmw.csv   hyundai.csv  skoda.csv  vauxhall.csv\n"
          ],
          "name": "stdout"
        }
      ]
    },
    {
      "cell_type": "code",
      "metadata": {
        "colab": {
          "base_uri": "https://localhost:8080/"
        },
        "id": "cqQEs4u91UbO",
        "outputId": "d27b1842-a828-459f-ded5-8d07509f7bb4"
      },
      "source": [
        "#Assigning path\n",
        "path = '/content/drive/My Drive/Manager_Gentera/data'\n",
        "# List comprehensions with csv files\n",
        "all_csv_files = [f for f in os.listdir(path) if f.endswith('.csv')]\n",
        "#List comprehensions with names only\n",
        "file_names = [ names[:-4] for names in all_csv_files ]\n",
        "file_names\n",
        "#Count number of columns len((df.columns))"
      ],
      "execution_count": 21,
      "outputs": [
        {
          "output_type": "execute_result",
          "data": {
            "text/plain": [
              "['toyota', 'vauxhall', 'vw', 'ford', 'merc', 'bmw', 'skoda', 'audi', 'hyundai']"
            ]
          },
          "metadata": {
            "tags": []
          },
          "execution_count": 21
        }
      ]
    },
    {
      "cell_type": "code",
      "metadata": {
        "colab": {
          "base_uri": "https://localhost:8080/"
        },
        "id": "RpCFHXfh83wu",
        "outputId": "0fe83814-95cb-44a9-9a53-09ca2f7c819d"
      },
      "source": [
        "dfs = [pd.read_csv(csv).drop_duplicates() for csv in all_csv_files]\n",
        "dfs"
      ],
      "execution_count": 22,
      "outputs": [
        {
          "output_type": "execute_result",
          "data": {
            "text/plain": [
              "[               model  year  price transmission  ...  fuelType  tax   mpg  engineSize\n",
              " 0               GT86  2016  16000       Manual  ...    Petrol  265  36.2         2.0\n",
              " 1               GT86  2017  15995       Manual  ...    Petrol  145  36.2         2.0\n",
              " 2               GT86  2015  13998       Manual  ...    Petrol  265  36.2         2.0\n",
              " 3               GT86  2017  18998       Manual  ...    Petrol  150  36.2         2.0\n",
              " 4               GT86  2017  17498       Manual  ...    Petrol  145  36.2         2.0\n",
              " ...              ...   ...    ...          ...  ...       ...  ...   ...         ...\n",
              " 6733              IQ  2011   5500    Automatic  ...    Petrol   20  58.9         1.0\n",
              " 6734   Urban Cruiser  2011   4985       Manual  ...    Petrol  125  50.4         1.3\n",
              " 6735   Urban Cruiser  2012   4995       Manual  ...    Diesel  125  57.6         1.4\n",
              " 6736   Urban Cruiser  2011   3995       Manual  ...    Petrol  125  50.4         1.3\n",
              " 6737   Urban Cruiser  2011   4495       Manual  ...    Petrol  125  50.4         1.3\n",
              " \n",
              " [6699 rows x 9 columns],\n",
              "          model  year  price transmission  ...  fuelType  tax   mpg  engineSize\n",
              " 0        Corsa  2018   7885       Manual  ...    Petrol  145  55.4         1.4\n",
              " 1        Corsa  2019  11995       Manual  ...    Petrol  145  54.3         1.4\n",
              " 2        Corsa  2017   9777    Automatic  ...    Petrol  145  47.9         1.4\n",
              " 3        Corsa  2016   8500       Manual  ...    Petrol   30  55.4         1.4\n",
              " 4        Corsa  2019  10000       Manual  ...    Petrol  145  43.5         1.4\n",
              " ...        ...   ...    ...          ...  ...       ...  ...   ...         ...\n",
              " 13627    Tigra  2007   2499       Manual  ...    Petrol  165  46.3         1.4\n",
              " 13628   Vectra  2007   1795       Manual  ...    Petrol  240  39.2         1.8\n",
              " 13629   Vectra  2005   1495       Manual  ...    Petrol  235  38.7         1.8\n",
              " 13630   Vectra  2008   1695    Automatic  ...    Diesel  200  39.8         1.9\n",
              " 13631   Vectra  2005   1450       Manual  ...    Petrol  330  27.9         3.2\n",
              " \n",
              " [13258 rows x 9 columns],\n",
              "         model  year  price transmission  ...  fuelType  tax   mpg  engineSize\n",
              " 0       T-Roc  2019  25000    Automatic  ...    Diesel  145  49.6         2.0\n",
              " 1       T-Roc  2019  26883    Automatic  ...    Diesel  145  49.6         2.0\n",
              " 2       T-Roc  2019  20000       Manual  ...    Diesel  145  50.4         2.0\n",
              " 3       T-Roc  2019  33492    Automatic  ...    Petrol  145  32.5         2.0\n",
              " 4       T-Roc  2019  22900    Semi-Auto  ...    Petrol  150  39.8         1.5\n",
              " ...       ...   ...    ...          ...  ...       ...  ...   ...         ...\n",
              " 15152     Eos  2012   5990       Manual  ...    Diesel  125  58.9         2.0\n",
              " 15153     Fox  2008   1799       Manual  ...    Petrol  145  46.3         1.2\n",
              " 15154     Fox  2009   1590       Manual  ...    Petrol  200  42.0         1.4\n",
              " 15155     Fox  2006   1250       Manual  ...    Petrol  150  46.3         1.2\n",
              " 15156     Fox  2007   2295       Manual  ...    Petrol  145  46.3         1.2\n",
              " \n",
              " [14893 rows x 9 columns],\n",
              "          model  year  price transmission  ...  fuelType  tax   mpg  engineSize\n",
              " 0       Fiesta  2017  12000    Automatic  ...    Petrol  150  57.7         1.0\n",
              " 1        Focus  2018  14000       Manual  ...    Petrol  150  57.7         1.0\n",
              " 2        Focus  2017  13000       Manual  ...    Petrol  150  57.7         1.0\n",
              " 3       Fiesta  2019  17500       Manual  ...    Petrol  145  40.3         1.5\n",
              " 4       Fiesta  2019  16500    Automatic  ...    Petrol  145  48.7         1.0\n",
              " ...        ...   ...    ...          ...  ...       ...  ...   ...         ...\n",
              " 17960   Fiesta  2016   7999       Manual  ...    Petrol  125  54.3         1.2\n",
              " 17961    B-MAX  2017   8999       Manual  ...    Petrol  150  47.1         1.4\n",
              " 17962    B-MAX  2014   7499       Manual  ...    Petrol   30  57.7         1.0\n",
              " 17963    Focus  2015   9999       Manual  ...    Diesel   20  67.3         1.6\n",
              " 17964       KA  2018   8299       Manual  ...    Petrol  145  57.7         1.2\n",
              " \n",
              " [17811 rows x 9 columns],\n",
              "             model  year  price transmission  ...  fuelType  tax   mpg  engineSize\n",
              " 0             SLK  2005   5200    Automatic  ...    Petrol  325  32.1         1.8\n",
              " 1         S Class  2017  34948    Automatic  ...    Hybrid   20  61.4         2.1\n",
              " 2        SL CLASS  2016  49948    Automatic  ...    Petrol  555  28.0         5.5\n",
              " 3         G Class  2016  61948    Automatic  ...    Petrol  325  30.4         4.0\n",
              " 4         G Class  2016  73948    Automatic  ...    Petrol  325  30.1         4.0\n",
              " ...           ...   ...    ...          ...  ...       ...  ...   ...         ...\n",
              " 13114     C Class  2020  35999    Automatic  ...    Diesel  145  55.4         2.0\n",
              " 13115     B Class  2020  24699    Automatic  ...    Diesel  145  55.4         2.0\n",
              " 13116   GLC Class  2019  30999    Automatic  ...    Diesel  145  41.5         2.1\n",
              " 13117   CLS Class  2019  37990    Automatic  ...    Diesel  145  45.6         2.0\n",
              " 13118     S Class  2019  54999    Automatic  ...    Diesel  145  52.3         2.9\n",
              " \n",
              " [12860 rows x 9 columns],\n",
              "            model  year  price transmission  ...  fuelType  tax   mpg  engineSize\n",
              " 0       5 Series  2014  11200    Automatic  ...    Diesel  125  57.6         2.0\n",
              " 1       6 Series  2018  27000    Automatic  ...    Petrol  145  42.8         2.0\n",
              " 2       5 Series  2016  16000    Automatic  ...    Diesel  160  51.4         3.0\n",
              " 3       1 Series  2017  12750    Automatic  ...    Diesel  145  72.4         1.5\n",
              " 4       7 Series  2014  14500    Automatic  ...    Diesel  160  50.4         3.0\n",
              " ...          ...   ...    ...          ...  ...       ...  ...   ...         ...\n",
              " 10776         X3  2016  19000    Automatic  ...    Diesel  150  54.3         2.0\n",
              " 10777   5 Series  2016  14600    Automatic  ...    Diesel  125  60.1         2.0\n",
              " 10778   3 Series  2017  13100       Manual  ...    Petrol  200  42.8         2.0\n",
              " 10779   1 Series  2014   9930    Automatic  ...    Diesel   30  64.2         2.0\n",
              " 10780         X1  2017  15981    Automatic  ...    Diesel  125  57.6         2.0\n",
              " \n",
              " [10664 rows x 9 columns],\n",
              "               model  year  price transmission  ...  fuelType  tax   mpg  engineSize\n",
              " 0           Octavia  2017  10550       Manual  ...    Petrol  150  54.3         1.4\n",
              " 1            Citigo  2018   8200       Manual  ...    Petrol  145  67.3         1.0\n",
              " 2           Octavia  2019  15650    Automatic  ...    Diesel  145  67.3         2.0\n",
              " 3      Yeti Outdoor  2015  14000    Automatic  ...    Diesel  165  51.4         2.0\n",
              " 4            Superb  2019  18350       Manual  ...    Petrol  150  40.9         1.5\n",
              " ...             ...   ...    ...          ...  ...       ...  ...   ...         ...\n",
              " 6262           Yeti  2014  11440    Semi-Auto  ...    Petrol  160  44.8         1.2\n",
              " 6263        Octavia  2014  10990    Semi-Auto  ...    Petrol   30  56.5         1.4\n",
              " 6264          Fabia  2017   9500    Semi-Auto  ...    Petrol  145  61.4         1.0\n",
              " 6265         Citigo  2016   5999       Manual  ...    Petrol   20  62.8         1.0\n",
              " 6266          Fabia  2017   9232    Semi-Auto  ...    Petrol   20  60.1         1.2\n",
              " \n",
              " [6188 rows x 9 columns],\n",
              "       model  year  price transmission  mileage fuelType  tax   mpg  engineSize\n",
              " 0        A1  2017  12500       Manual    15735   Petrol  150  55.4         1.4\n",
              " 1        A6  2016  16500    Automatic    36203   Diesel   20  64.2         2.0\n",
              " 2        A1  2016  11000       Manual    29946   Petrol   30  55.4         1.4\n",
              " 3        A4  2017  16800    Automatic    25952   Diesel  145  67.3         2.0\n",
              " 4        A3  2019  17300       Manual     1998   Petrol  145  49.6         1.0\n",
              " ...     ...   ...    ...          ...      ...      ...  ...   ...         ...\n",
              " 10663    A3  2020  16999       Manual     4018   Petrol  145  49.6         1.0\n",
              " 10664    A3  2020  16999       Manual     1978   Petrol  150  49.6         1.0\n",
              " 10665    A3  2020  17199       Manual      609   Petrol  150  49.6         1.0\n",
              " 10666    Q3  2017  19499    Automatic     8646   Petrol  150  47.9         1.4\n",
              " 10667    Q3  2016  15999       Manual    11855   Petrol  150  47.9         1.4\n",
              " \n",
              " [10565 rows x 9 columns],\n",
              "         model  year  price transmission  ...  fuelType  tax   mpg  engineSize\n",
              " 0         I20  2017   7999       Manual  ...    Petrol  145  58.9         1.2\n",
              " 1      Tucson  2016  14499    Automatic  ...    Diesel  235  43.5         2.0\n",
              " 2      Tucson  2016  11399       Manual  ...    Diesel   30  61.7         1.7\n",
              " 3         I10  2016   6499       Manual  ...    Petrol   20  60.1         1.0\n",
              " 4        IX35  2015  10199       Manual  ...    Diesel  160  51.4         2.0\n",
              " ...       ...   ...    ...          ...  ...       ...  ...   ...         ...\n",
              " 4855      I30  2016   8680       Manual  ...    Diesel    0  78.4         1.6\n",
              " 4856      I40  2015   7830       Manual  ...    Diesel   30  65.7         1.7\n",
              " 4857      I10  2017   6830       Manual  ...    Petrol   20  60.1         1.0\n",
              " 4858   Tucson  2018  13994       Manual  ...    Petrol  145  44.8         1.6\n",
              " 4859   Tucson  2016  15999    Automatic  ...    Diesel  125  57.6         1.7\n",
              " \n",
              " [4774 rows x 9 columns]]"
            ]
          },
          "metadata": {
            "tags": []
          },
          "execution_count": 22
        }
      ]
    },
    {
      "cell_type": "code",
      "metadata": {
        "colab": {
          "base_uri": "https://localhost:8080/"
        },
        "id": "7dKkIyQqBnPa",
        "outputId": "f2e0dc86-2adc-4bb2-d05f-2d4d5b37a579"
      },
      "source": [
        "#df_contents_dic = {}\n",
        "for i in range(0,len(all_csv_files)):\n",
        "    dfs[i] = dfs[i].assign(source_file = file_names[i])\n",
        "#    df_contents_dic[file_names[i]] = dfs[i].columns\n",
        "dfs"
      ],
      "execution_count": 23,
      "outputs": [
        {
          "output_type": "execute_result",
          "data": {
            "text/plain": [
              "[               model  year  price  ...   mpg  engineSize source_file\n",
              " 0               GT86  2016  16000  ...  36.2         2.0      toyota\n",
              " 1               GT86  2017  15995  ...  36.2         2.0      toyota\n",
              " 2               GT86  2015  13998  ...  36.2         2.0      toyota\n",
              " 3               GT86  2017  18998  ...  36.2         2.0      toyota\n",
              " 4               GT86  2017  17498  ...  36.2         2.0      toyota\n",
              " ...              ...   ...    ...  ...   ...         ...         ...\n",
              " 6733              IQ  2011   5500  ...  58.9         1.0      toyota\n",
              " 6734   Urban Cruiser  2011   4985  ...  50.4         1.3      toyota\n",
              " 6735   Urban Cruiser  2012   4995  ...  57.6         1.4      toyota\n",
              " 6736   Urban Cruiser  2011   3995  ...  50.4         1.3      toyota\n",
              " 6737   Urban Cruiser  2011   4495  ...  50.4         1.3      toyota\n",
              " \n",
              " [6699 rows x 10 columns],\n",
              "          model  year  price transmission  ...  tax   mpg  engineSize  source_file\n",
              " 0        Corsa  2018   7885       Manual  ...  145  55.4         1.4     vauxhall\n",
              " 1        Corsa  2019  11995       Manual  ...  145  54.3         1.4     vauxhall\n",
              " 2        Corsa  2017   9777    Automatic  ...  145  47.9         1.4     vauxhall\n",
              " 3        Corsa  2016   8500       Manual  ...   30  55.4         1.4     vauxhall\n",
              " 4        Corsa  2019  10000       Manual  ...  145  43.5         1.4     vauxhall\n",
              " ...        ...   ...    ...          ...  ...  ...   ...         ...          ...\n",
              " 13627    Tigra  2007   2499       Manual  ...  165  46.3         1.4     vauxhall\n",
              " 13628   Vectra  2007   1795       Manual  ...  240  39.2         1.8     vauxhall\n",
              " 13629   Vectra  2005   1495       Manual  ...  235  38.7         1.8     vauxhall\n",
              " 13630   Vectra  2008   1695    Automatic  ...  200  39.8         1.9     vauxhall\n",
              " 13631   Vectra  2005   1450       Manual  ...  330  27.9         3.2     vauxhall\n",
              " \n",
              " [13258 rows x 10 columns],\n",
              "         model  year  price transmission  ...  tax   mpg  engineSize  source_file\n",
              " 0       T-Roc  2019  25000    Automatic  ...  145  49.6         2.0           vw\n",
              " 1       T-Roc  2019  26883    Automatic  ...  145  49.6         2.0           vw\n",
              " 2       T-Roc  2019  20000       Manual  ...  145  50.4         2.0           vw\n",
              " 3       T-Roc  2019  33492    Automatic  ...  145  32.5         2.0           vw\n",
              " 4       T-Roc  2019  22900    Semi-Auto  ...  150  39.8         1.5           vw\n",
              " ...       ...   ...    ...          ...  ...  ...   ...         ...          ...\n",
              " 15152     Eos  2012   5990       Manual  ...  125  58.9         2.0           vw\n",
              " 15153     Fox  2008   1799       Manual  ...  145  46.3         1.2           vw\n",
              " 15154     Fox  2009   1590       Manual  ...  200  42.0         1.4           vw\n",
              " 15155     Fox  2006   1250       Manual  ...  150  46.3         1.2           vw\n",
              " 15156     Fox  2007   2295       Manual  ...  145  46.3         1.2           vw\n",
              " \n",
              " [14893 rows x 10 columns],\n",
              "          model  year  price transmission  ...  tax   mpg  engineSize  source_file\n",
              " 0       Fiesta  2017  12000    Automatic  ...  150  57.7         1.0         ford\n",
              " 1        Focus  2018  14000       Manual  ...  150  57.7         1.0         ford\n",
              " 2        Focus  2017  13000       Manual  ...  150  57.7         1.0         ford\n",
              " 3       Fiesta  2019  17500       Manual  ...  145  40.3         1.5         ford\n",
              " 4       Fiesta  2019  16500    Automatic  ...  145  48.7         1.0         ford\n",
              " ...        ...   ...    ...          ...  ...  ...   ...         ...          ...\n",
              " 17960   Fiesta  2016   7999       Manual  ...  125  54.3         1.2         ford\n",
              " 17961    B-MAX  2017   8999       Manual  ...  150  47.1         1.4         ford\n",
              " 17962    B-MAX  2014   7499       Manual  ...   30  57.7         1.0         ford\n",
              " 17963    Focus  2015   9999       Manual  ...   20  67.3         1.6         ford\n",
              " 17964       KA  2018   8299       Manual  ...  145  57.7         1.2         ford\n",
              " \n",
              " [17811 rows x 10 columns],\n",
              "             model  year  price transmission  ...  tax   mpg  engineSize  source_file\n",
              " 0             SLK  2005   5200    Automatic  ...  325  32.1         1.8         merc\n",
              " 1         S Class  2017  34948    Automatic  ...   20  61.4         2.1         merc\n",
              " 2        SL CLASS  2016  49948    Automatic  ...  555  28.0         5.5         merc\n",
              " 3         G Class  2016  61948    Automatic  ...  325  30.4         4.0         merc\n",
              " 4         G Class  2016  73948    Automatic  ...  325  30.1         4.0         merc\n",
              " ...           ...   ...    ...          ...  ...  ...   ...         ...          ...\n",
              " 13114     C Class  2020  35999    Automatic  ...  145  55.4         2.0         merc\n",
              " 13115     B Class  2020  24699    Automatic  ...  145  55.4         2.0         merc\n",
              " 13116   GLC Class  2019  30999    Automatic  ...  145  41.5         2.1         merc\n",
              " 13117   CLS Class  2019  37990    Automatic  ...  145  45.6         2.0         merc\n",
              " 13118     S Class  2019  54999    Automatic  ...  145  52.3         2.9         merc\n",
              " \n",
              " [12860 rows x 10 columns],\n",
              "            model  year  price transmission  ...  tax   mpg  engineSize  source_file\n",
              " 0       5 Series  2014  11200    Automatic  ...  125  57.6         2.0          bmw\n",
              " 1       6 Series  2018  27000    Automatic  ...  145  42.8         2.0          bmw\n",
              " 2       5 Series  2016  16000    Automatic  ...  160  51.4         3.0          bmw\n",
              " 3       1 Series  2017  12750    Automatic  ...  145  72.4         1.5          bmw\n",
              " 4       7 Series  2014  14500    Automatic  ...  160  50.4         3.0          bmw\n",
              " ...          ...   ...    ...          ...  ...  ...   ...         ...          ...\n",
              " 10776         X3  2016  19000    Automatic  ...  150  54.3         2.0          bmw\n",
              " 10777   5 Series  2016  14600    Automatic  ...  125  60.1         2.0          bmw\n",
              " 10778   3 Series  2017  13100       Manual  ...  200  42.8         2.0          bmw\n",
              " 10779   1 Series  2014   9930    Automatic  ...   30  64.2         2.0          bmw\n",
              " 10780         X1  2017  15981    Automatic  ...  125  57.6         2.0          bmw\n",
              " \n",
              " [10664 rows x 10 columns],\n",
              "               model  year  price  ...   mpg  engineSize source_file\n",
              " 0           Octavia  2017  10550  ...  54.3         1.4       skoda\n",
              " 1            Citigo  2018   8200  ...  67.3         1.0       skoda\n",
              " 2           Octavia  2019  15650  ...  67.3         2.0       skoda\n",
              " 3      Yeti Outdoor  2015  14000  ...  51.4         2.0       skoda\n",
              " 4            Superb  2019  18350  ...  40.9         1.5       skoda\n",
              " ...             ...   ...    ...  ...   ...         ...         ...\n",
              " 6262           Yeti  2014  11440  ...  44.8         1.2       skoda\n",
              " 6263        Octavia  2014  10990  ...  56.5         1.4       skoda\n",
              " 6264          Fabia  2017   9500  ...  61.4         1.0       skoda\n",
              " 6265         Citigo  2016   5999  ...  62.8         1.0       skoda\n",
              " 6266          Fabia  2017   9232  ...  60.1         1.2       skoda\n",
              " \n",
              " [6188 rows x 10 columns],\n",
              "       model  year  price transmission  ...  tax   mpg  engineSize  source_file\n",
              " 0        A1  2017  12500       Manual  ...  150  55.4         1.4         audi\n",
              " 1        A6  2016  16500    Automatic  ...   20  64.2         2.0         audi\n",
              " 2        A1  2016  11000       Manual  ...   30  55.4         1.4         audi\n",
              " 3        A4  2017  16800    Automatic  ...  145  67.3         2.0         audi\n",
              " 4        A3  2019  17300       Manual  ...  145  49.6         1.0         audi\n",
              " ...     ...   ...    ...          ...  ...  ...   ...         ...          ...\n",
              " 10663    A3  2020  16999       Manual  ...  145  49.6         1.0         audi\n",
              " 10664    A3  2020  16999       Manual  ...  150  49.6         1.0         audi\n",
              " 10665    A3  2020  17199       Manual  ...  150  49.6         1.0         audi\n",
              " 10666    Q3  2017  19499    Automatic  ...  150  47.9         1.4         audi\n",
              " 10667    Q3  2016  15999       Manual  ...  150  47.9         1.4         audi\n",
              " \n",
              " [10565 rows x 10 columns],\n",
              "         model  year  price transmission  ...  tax   mpg  engineSize  source_file\n",
              " 0         I20  2017   7999       Manual  ...  145  58.9         1.2      hyundai\n",
              " 1      Tucson  2016  14499    Automatic  ...  235  43.5         2.0      hyundai\n",
              " 2      Tucson  2016  11399       Manual  ...   30  61.7         1.7      hyundai\n",
              " 3         I10  2016   6499       Manual  ...   20  60.1         1.0      hyundai\n",
              " 4        IX35  2015  10199       Manual  ...  160  51.4         2.0      hyundai\n",
              " ...       ...   ...    ...          ...  ...  ...   ...         ...          ...\n",
              " 4855      I30  2016   8680       Manual  ...    0  78.4         1.6      hyundai\n",
              " 4856      I40  2015   7830       Manual  ...   30  65.7         1.7      hyundai\n",
              " 4857      I10  2017   6830       Manual  ...   20  60.1         1.0      hyundai\n",
              " 4858   Tucson  2018  13994       Manual  ...  145  44.8         1.6      hyundai\n",
              " 4859   Tucson  2016  15999    Automatic  ...  125  57.6         1.7      hyundai\n",
              " \n",
              " [4774 rows x 10 columns]]"
            ]
          },
          "metadata": {
            "tags": []
          },
          "execution_count": 23
        }
      ]
    },
    {
      "cell_type": "code",
      "metadata": {
        "colab": {
          "base_uri": "https://localhost:8080/",
          "height": 422
        },
        "id": "SpBjQkU7wN3H",
        "outputId": "7c4cb948-d8c2-4602-df1b-5a74a2af038e"
      },
      "source": [
        "df_cars_all_brands = pd.concat(dfs, ignore_index=True)\n",
        "df_cars_all_brands"
      ],
      "execution_count": 24,
      "outputs": [
        {
          "output_type": "execute_result",
          "data": {
            "text/html": [
              "<div>\n",
              "<style scoped>\n",
              "    .dataframe tbody tr th:only-of-type {\n",
              "        vertical-align: middle;\n",
              "    }\n",
              "\n",
              "    .dataframe tbody tr th {\n",
              "        vertical-align: top;\n",
              "    }\n",
              "\n",
              "    .dataframe thead th {\n",
              "        text-align: right;\n",
              "    }\n",
              "</style>\n",
              "<table border=\"1\" class=\"dataframe\">\n",
              "  <thead>\n",
              "    <tr style=\"text-align: right;\">\n",
              "      <th></th>\n",
              "      <th>model</th>\n",
              "      <th>year</th>\n",
              "      <th>price</th>\n",
              "      <th>transmission</th>\n",
              "      <th>mileage</th>\n",
              "      <th>fuelType</th>\n",
              "      <th>tax</th>\n",
              "      <th>mpg</th>\n",
              "      <th>engineSize</th>\n",
              "      <th>source_file</th>\n",
              "    </tr>\n",
              "  </thead>\n",
              "  <tbody>\n",
              "    <tr>\n",
              "      <th>0</th>\n",
              "      <td>GT86</td>\n",
              "      <td>2016</td>\n",
              "      <td>16000</td>\n",
              "      <td>Manual</td>\n",
              "      <td>24089</td>\n",
              "      <td>Petrol</td>\n",
              "      <td>265</td>\n",
              "      <td>36.2</td>\n",
              "      <td>2.0</td>\n",
              "      <td>toyota</td>\n",
              "    </tr>\n",
              "    <tr>\n",
              "      <th>1</th>\n",
              "      <td>GT86</td>\n",
              "      <td>2017</td>\n",
              "      <td>15995</td>\n",
              "      <td>Manual</td>\n",
              "      <td>18615</td>\n",
              "      <td>Petrol</td>\n",
              "      <td>145</td>\n",
              "      <td>36.2</td>\n",
              "      <td>2.0</td>\n",
              "      <td>toyota</td>\n",
              "    </tr>\n",
              "    <tr>\n",
              "      <th>2</th>\n",
              "      <td>GT86</td>\n",
              "      <td>2015</td>\n",
              "      <td>13998</td>\n",
              "      <td>Manual</td>\n",
              "      <td>27469</td>\n",
              "      <td>Petrol</td>\n",
              "      <td>265</td>\n",
              "      <td>36.2</td>\n",
              "      <td>2.0</td>\n",
              "      <td>toyota</td>\n",
              "    </tr>\n",
              "    <tr>\n",
              "      <th>3</th>\n",
              "      <td>GT86</td>\n",
              "      <td>2017</td>\n",
              "      <td>18998</td>\n",
              "      <td>Manual</td>\n",
              "      <td>14736</td>\n",
              "      <td>Petrol</td>\n",
              "      <td>150</td>\n",
              "      <td>36.2</td>\n",
              "      <td>2.0</td>\n",
              "      <td>toyota</td>\n",
              "    </tr>\n",
              "    <tr>\n",
              "      <th>4</th>\n",
              "      <td>GT86</td>\n",
              "      <td>2017</td>\n",
              "      <td>17498</td>\n",
              "      <td>Manual</td>\n",
              "      <td>36284</td>\n",
              "      <td>Petrol</td>\n",
              "      <td>145</td>\n",
              "      <td>36.2</td>\n",
              "      <td>2.0</td>\n",
              "      <td>toyota</td>\n",
              "    </tr>\n",
              "    <tr>\n",
              "      <th>...</th>\n",
              "      <td>...</td>\n",
              "      <td>...</td>\n",
              "      <td>...</td>\n",
              "      <td>...</td>\n",
              "      <td>...</td>\n",
              "      <td>...</td>\n",
              "      <td>...</td>\n",
              "      <td>...</td>\n",
              "      <td>...</td>\n",
              "      <td>...</td>\n",
              "    </tr>\n",
              "    <tr>\n",
              "      <th>97707</th>\n",
              "      <td>I30</td>\n",
              "      <td>2016</td>\n",
              "      <td>8680</td>\n",
              "      <td>Manual</td>\n",
              "      <td>25906</td>\n",
              "      <td>Diesel</td>\n",
              "      <td>0</td>\n",
              "      <td>78.4</td>\n",
              "      <td>1.6</td>\n",
              "      <td>hyundai</td>\n",
              "    </tr>\n",
              "    <tr>\n",
              "      <th>97708</th>\n",
              "      <td>I40</td>\n",
              "      <td>2015</td>\n",
              "      <td>7830</td>\n",
              "      <td>Manual</td>\n",
              "      <td>59508</td>\n",
              "      <td>Diesel</td>\n",
              "      <td>30</td>\n",
              "      <td>65.7</td>\n",
              "      <td>1.7</td>\n",
              "      <td>hyundai</td>\n",
              "    </tr>\n",
              "    <tr>\n",
              "      <th>97709</th>\n",
              "      <td>I10</td>\n",
              "      <td>2017</td>\n",
              "      <td>6830</td>\n",
              "      <td>Manual</td>\n",
              "      <td>13810</td>\n",
              "      <td>Petrol</td>\n",
              "      <td>20</td>\n",
              "      <td>60.1</td>\n",
              "      <td>1.0</td>\n",
              "      <td>hyundai</td>\n",
              "    </tr>\n",
              "    <tr>\n",
              "      <th>97710</th>\n",
              "      <td>Tucson</td>\n",
              "      <td>2018</td>\n",
              "      <td>13994</td>\n",
              "      <td>Manual</td>\n",
              "      <td>23313</td>\n",
              "      <td>Petrol</td>\n",
              "      <td>145</td>\n",
              "      <td>44.8</td>\n",
              "      <td>1.6</td>\n",
              "      <td>hyundai</td>\n",
              "    </tr>\n",
              "    <tr>\n",
              "      <th>97711</th>\n",
              "      <td>Tucson</td>\n",
              "      <td>2016</td>\n",
              "      <td>15999</td>\n",
              "      <td>Automatic</td>\n",
              "      <td>11472</td>\n",
              "      <td>Diesel</td>\n",
              "      <td>125</td>\n",
              "      <td>57.6</td>\n",
              "      <td>1.7</td>\n",
              "      <td>hyundai</td>\n",
              "    </tr>\n",
              "  </tbody>\n",
              "</table>\n",
              "<p>97712 rows × 10 columns</p>\n",
              "</div>"
            ],
            "text/plain": [
              "         model  year  price transmission  ...  tax   mpg  engineSize  source_file\n",
              "0         GT86  2016  16000       Manual  ...  265  36.2         2.0       toyota\n",
              "1         GT86  2017  15995       Manual  ...  145  36.2         2.0       toyota\n",
              "2         GT86  2015  13998       Manual  ...  265  36.2         2.0       toyota\n",
              "3         GT86  2017  18998       Manual  ...  150  36.2         2.0       toyota\n",
              "4         GT86  2017  17498       Manual  ...  145  36.2         2.0       toyota\n",
              "...        ...   ...    ...          ...  ...  ...   ...         ...          ...\n",
              "97707      I30  2016   8680       Manual  ...    0  78.4         1.6      hyundai\n",
              "97708      I40  2015   7830       Manual  ...   30  65.7         1.7      hyundai\n",
              "97709      I10  2017   6830       Manual  ...   20  60.1         1.0      hyundai\n",
              "97710   Tucson  2018  13994       Manual  ...  145  44.8         1.6      hyundai\n",
              "97711   Tucson  2016  15999    Automatic  ...  125  57.6         1.7      hyundai\n",
              "\n",
              "[97712 rows x 10 columns]"
            ]
          },
          "metadata": {
            "tags": []
          },
          "execution_count": 24
        }
      ]
    },
    {
      "cell_type": "markdown",
      "metadata": {
        "id": "n4GcpMUO9xyn"
      },
      "source": [
        "# Exploratory Data Analysis:\n",
        "<H4>Assumptions: Figures in £<H4>\n",
        "\n",
        "<H4>Used Cards Total market Value: 1,638 M £ <H4>\n",
        "<H4>Top 3 Manufacturer’s by Market Share: 1 Mercedes-Benz, 2 Volkswagen, 3 BMW<H4>\n",
        "<H4>Top 3 car sellers by units : 1 Ford, 2 Volkswagen,  3 Vauxhall<H4>\n",
        "<H4>Top 3 Best Sellers by Model: 1 Fiesta, 2 Golf, 3 Focus <H4>\n",
        "<H4>Top 3 Best Sellers by Model and Revenue: 1 MB C-Class, 2 VW-Golf, 3 Ford-Fiesta <H4>\n",
        "<H4>Mean Price : 16,800 £<H4>\n"
      ]
    },
    {
      "cell_type": "markdown",
      "metadata": {
        "id": "g0PA1ifS_t-c"
      },
      "source": [
        "Data Type Report:"
      ]
    },
    {
      "cell_type": "code",
      "metadata": {
        "colab": {
          "base_uri": "https://localhost:8080/"
        },
        "id": "zakNCZ_VBU4t",
        "outputId": "01b094b2-7225-4c8c-cf1c-466f6233111c"
      },
      "source": [
        "df_cars_all_brands.info()"
      ],
      "execution_count": null,
      "outputs": [
        {
          "output_type": "stream",
          "text": [
            "<class 'pandas.core.frame.DataFrame'>\n",
            "RangeIndex: 97712 entries, 0 to 97711\n",
            "Data columns (total 10 columns):\n",
            " #   Column        Non-Null Count  Dtype  \n",
            "---  ------        --------------  -----  \n",
            " 0   model         97712 non-null  object \n",
            " 1   year          97712 non-null  int64  \n",
            " 2   price         97712 non-null  int64  \n",
            " 3   transmission  97712 non-null  object \n",
            " 4   mileage       97712 non-null  int64  \n",
            " 5   fuelType      97712 non-null  object \n",
            " 6   tax           97712 non-null  int64  \n",
            " 7   mpg           97712 non-null  float64\n",
            " 8   engineSize    97712 non-null  float64\n",
            " 9   source_file   97712 non-null  object \n",
            "dtypes: float64(2), int64(4), object(4)\n",
            "memory usage: 7.5+ MB\n"
          ],
          "name": "stdout"
        }
      ]
    },
    {
      "cell_type": "markdown",
      "metadata": {
        "id": "LX3t_A8K_nan"
      },
      "source": [
        "Statistic Report:"
      ]
    },
    {
      "cell_type": "code",
      "metadata": {
        "colab": {
          "base_uri": "https://localhost:8080/"
        },
        "id": "Sr-c8z-SQH4e",
        "outputId": "0f4de81b-1798-4554-d572-8ffa24eada7e"
      },
      "source": [
        "df_cars_all_brands.describe()"
      ],
      "execution_count": null,
      "outputs": [
        {
          "output_type": "execute_result",
          "data": {
            "text/html": [
              "<div>\n",
              "<style scoped>\n",
              "    .dataframe tbody tr th:only-of-type {\n",
              "        vertical-align: middle;\n",
              "    }\n",
              "\n",
              "    .dataframe tbody tr th {\n",
              "        vertical-align: top;\n",
              "    }\n",
              "\n",
              "    .dataframe thead th {\n",
              "        text-align: right;\n",
              "    }\n",
              "</style>\n",
              "<table border=\"1\" class=\"dataframe\">\n",
              "  <thead>\n",
              "    <tr style=\"text-align: right;\">\n",
              "      <th></th>\n",
              "      <th>year</th>\n",
              "      <th>price</th>\n",
              "      <th>mileage</th>\n",
              "      <th>tax</th>\n",
              "      <th>mpg</th>\n",
              "      <th>engineSize</th>\n",
              "    </tr>\n",
              "  </thead>\n",
              "  <tbody>\n",
              "    <tr>\n",
              "      <th>count</th>\n",
              "      <td>97712.000000</td>\n",
              "      <td>97712.000000</td>\n",
              "      <td>97712.000000</td>\n",
              "      <td>97712.000000</td>\n",
              "      <td>97712.000000</td>\n",
              "      <td>97712.000000</td>\n",
              "    </tr>\n",
              "    <tr>\n",
              "      <th>mean</th>\n",
              "      <td>2017.066870</td>\n",
              "      <td>16773.487555</td>\n",
              "      <td>23219.475499</td>\n",
              "      <td>120.142408</td>\n",
              "      <td>55.205623</td>\n",
              "      <td>1.664913</td>\n",
              "    </tr>\n",
              "    <tr>\n",
              "      <th>std</th>\n",
              "      <td>2.122993</td>\n",
              "      <td>9868.552222</td>\n",
              "      <td>21060.882301</td>\n",
              "      <td>63.357250</td>\n",
              "      <td>16.181659</td>\n",
              "      <td>0.558574</td>\n",
              "    </tr>\n",
              "    <tr>\n",
              "      <th>min</th>\n",
              "      <td>1970.000000</td>\n",
              "      <td>450.000000</td>\n",
              "      <td>1.000000</td>\n",
              "      <td>0.000000</td>\n",
              "      <td>0.300000</td>\n",
              "      <td>0.000000</td>\n",
              "    </tr>\n",
              "    <tr>\n",
              "      <th>25%</th>\n",
              "      <td>2016.000000</td>\n",
              "      <td>9999.000000</td>\n",
              "      <td>7673.000000</td>\n",
              "      <td>125.000000</td>\n",
              "      <td>47.100000</td>\n",
              "      <td>1.200000</td>\n",
              "    </tr>\n",
              "    <tr>\n",
              "      <th>50%</th>\n",
              "      <td>2017.000000</td>\n",
              "      <td>14470.000000</td>\n",
              "      <td>17682.500000</td>\n",
              "      <td>145.000000</td>\n",
              "      <td>54.300000</td>\n",
              "      <td>1.600000</td>\n",
              "    </tr>\n",
              "    <tr>\n",
              "      <th>75%</th>\n",
              "      <td>2019.000000</td>\n",
              "      <td>20750.000000</td>\n",
              "      <td>32500.000000</td>\n",
              "      <td>145.000000</td>\n",
              "      <td>62.800000</td>\n",
              "      <td>2.000000</td>\n",
              "    </tr>\n",
              "    <tr>\n",
              "      <th>max</th>\n",
              "      <td>2060.000000</td>\n",
              "      <td>159999.000000</td>\n",
              "      <td>323000.000000</td>\n",
              "      <td>580.000000</td>\n",
              "      <td>470.800000</td>\n",
              "      <td>6.600000</td>\n",
              "    </tr>\n",
              "  </tbody>\n",
              "</table>\n",
              "</div>"
            ],
            "text/plain": [
              "               year          price  ...           mpg    engineSize\n",
              "count  97712.000000   97712.000000  ...  97712.000000  97712.000000\n",
              "mean    2017.066870   16773.487555  ...     55.205623      1.664913\n",
              "std        2.122993    9868.552222  ...     16.181659      0.558574\n",
              "min     1970.000000     450.000000  ...      0.300000      0.000000\n",
              "25%     2016.000000    9999.000000  ...     47.100000      1.200000\n",
              "50%     2017.000000   14470.000000  ...     54.300000      1.600000\n",
              "75%     2019.000000   20750.000000  ...     62.800000      2.000000\n",
              "max     2060.000000  159999.000000  ...    470.800000      6.600000\n",
              "\n",
              "[8 rows x 6 columns]"
            ]
          },
          "metadata": {
            "tags": []
          },
          "execution_count": 30
        }
      ]
    },
    {
      "cell_type": "markdown",
      "metadata": {
        "id": "bmQHprC8x870"
      },
      "source": [
        "<H2>Categorical Features<H2>"
      ]
    },
    {
      "cell_type": "code",
      "metadata": {
        "colab": {
          "base_uri": "https://localhost:8080/"
        },
        "id": "6ocyVnzVx6CV",
        "outputId": "823a649d-0ecf-47b2-e28b-a00129258b9b"
      },
      "source": [
        "#Variable categorica se identifica si es un tipo de variable object\n",
        "categorical_cols = [cname for cname in df_cars_all_brands.columns if \n",
        "                    df_cars_all_brands[cname].nunique() < 200 and\n",
        "                    df_cars_all_brands[cname].dtype == 'object']\n",
        "#Parameter nunique from 10 to 200 to include model variable in the model, increasing R2 from 0.75 to 0.85\n",
        "categorical_cols"
      ],
      "execution_count": null,
      "outputs": [
        {
          "output_type": "execute_result",
          "data": {
            "text/plain": [
              "['model', 'transmission', 'fuelType', 'source_file']"
            ]
          },
          "metadata": {
            "tags": []
          },
          "execution_count": 31
        }
      ]
    },
    {
      "cell_type": "code",
      "metadata": {
        "colab": {
          "base_uri": "https://localhost:8080/"
        },
        "id": "GgTIHmQCzNqq",
        "outputId": "03d9caee-9ead-4178-84a5-6484bfbd4124"
      },
      "source": [
        "print(df_cars_all_brands['transmission'].unique())"
      ],
      "execution_count": null,
      "outputs": [
        {
          "output_type": "stream",
          "text": [
            "['Manual' 'Automatic' 'Semi-Auto' 'Other']\n"
          ],
          "name": "stdout"
        }
      ]
    },
    {
      "cell_type": "code",
      "metadata": {
        "colab": {
          "base_uri": "https://localhost:8080/"
        },
        "id": "tBdubSuHzlDF",
        "outputId": "5a7a9623-741f-4de3-b377-291bb9fb6505"
      },
      "source": [
        "df_cars_all_brands.transmission.value_counts().plot(kind = 'bar', color=['b', 'c', '0.8', '0'])\n",
        "plt.title('Distribution by Transmission')"
      ],
      "execution_count": null,
      "outputs": [
        {
          "output_type": "execute_result",
          "data": {
            "text/plain": [
              "Text(0.5, 1.0, 'Distribution by Transmission')"
            ]
          },
          "metadata": {
            "tags": []
          },
          "execution_count": 33
        },
        {
          "output_type": "display_data",
          "data": {
            "image/png": "[encoded data removed]",
            "text/plain": [
              "<Figure size 432x288 with 1 Axes>"
            ]
          },
          "metadata": {
            "tags": [],
            "needs_background": "light"
          }
        }
      ]
    },
    {
      "cell_type": "code",
      "metadata": {
        "colab": {
          "base_uri": "https://localhost:8080/"
        },
        "id": "5MbQakzuz-Z8",
        "outputId": "e11ec48f-75cd-4c1f-991f-b1c68254095e"
      },
      "source": [
        "df_cars_all_brands.fuelType.value_counts().plot(kind = 'bar', color=['0.8', '0.5', '0', 'r', 'g'])\n",
        "plt.title('Distribution by fuelType')"
      ],
      "execution_count": null,
      "outputs": [
        {
          "output_type": "execute_result",
          "data": {
            "text/plain": [
              "Text(0.5, 1.0, 'Distribution by fuelType')"
            ]
          },
          "metadata": {
            "tags": []
          },
          "execution_count": 34
        },
        {
          "output_type": "display_data",
          "data": {
            "image/png": "[encoded data removed]",
            "text/plain": [
              "<Figure size 432x288 with 1 Axes>"
            ]
          },
          "metadata": {
            "tags": [],
            "needs_background": "light"
          }
        }
      ]
    },
    {
      "cell_type": "code",
      "metadata": {
        "colab": {
          "base_uri": "https://localhost:8080/"
        },
        "id": "qAF4A7t46Xac",
        "outputId": "bb1106e0-39c1-4159-ac9d-9bc5840b8284"
      },
      "source": [
        "#Top Models\n",
        "df_cars_all_brands.model.value_counts()"
      ],
      "execution_count": null,
      "outputs": [
        {
          "output_type": "execute_result",
          "data": {
            "text/plain": [
              " Fiesta     6509\n",
              " Golf       4797\n",
              " Focus      4555\n",
              " C Class    3694\n",
              " Corsa      3285\n",
              "            ... \n",
              " RS7           1\n",
              " Escort        1\n",
              " Accent        1\n",
              "230            1\n",
              "200            1\n",
              "Name: model, Length: 195, dtype: int64"
            ]
          },
          "metadata": {
            "tags": []
          },
          "execution_count": 35
        }
      ]
    },
    {
      "cell_type": "markdown",
      "metadata": {
        "id": "f10RUNk29edU"
      },
      "source": [
        "<H2>Distribution of car prices<H2>\n",
        "<H3>Source File = Car manufacturer<H3>"
      ]
    },
    {
      "cell_type": "code",
      "metadata": {
        "colab": {
          "base_uri": "https://localhost:8080/"
        },
        "id": "AiAcis7OHiqh",
        "outputId": "aa5f2035-f9ce-4d38-a4cd-b68c1696084d"
      },
      "source": [
        "sns.displot(df_cars_all_brands['price'], kde=True, color='b')\n",
        "plt.title('SeaBorn Distribution by Price')\n",
        "plt.xlabel('Car Prices')\n",
        "plt.ylabel('Frequency')"
      ],
      "execution_count": null,
      "outputs": [
        {
          "output_type": "execute_result",
          "data": {
            "text/plain": [
              "Text(-2.575000000000003, 0.5, 'Frequency')"
            ]
          },
          "metadata": {
            "tags": []
          },
          "execution_count": 36
        },
        {
          "output_type": "display_data",
          "data": {
            "image/png": "[encoded data removed]",
            "text/plain": [
              "<Figure size 360x360 with 1 Axes>"
            ]
          },
          "metadata": {
            "tags": [],
            "needs_background": "light"
          }
        }
      ]
    },
    {
      "cell_type": "code",
      "metadata": {
        "colab": {
          "base_uri": "https://localhost:8080/"
        },
        "id": "wW75SGJu9inm",
        "outputId": "014c8e64-6bee-44d1-e5ce-9a87d64859ce"
      },
      "source": [
        "plt.hist(df_cars_all_brands['price'], 10, color='blue', ec='black')\n",
        "plt.title('MatplotLib Distribution by Price')\n",
        "plt.xlabel('Car Prices')\n",
        "plt.ylabel('Frequency')"
      ],
      "execution_count": null,
      "outputs": [
        {
          "output_type": "execute_result",
          "data": {
            "text/plain": [
              "Text(0, 0.5, 'Frequency')"
            ]
          },
          "metadata": {
            "tags": []
          },
          "execution_count": 37
        },
        {
          "output_type": "display_data",
          "data": {
            "image/png": "[encoded data removed]",
            "text/plain": [
              "<Figure size 432x288 with 1 Axes>"
            ]
          },
          "metadata": {
            "tags": [],
            "needs_background": "light"
          }
        }
      ]
    },
    {
      "cell_type": "code",
      "metadata": {
        "colab": {
          "base_uri": "https://localhost:8080/"
        },
        "id": "OZBqDBMADUWa",
        "outputId": "27890323-155a-4697-aeb3-fa0379bce900"
      },
      "source": [
        "sns.countplot(df_cars_all_brands['source_file'], palette='ocean', order = df_cars_all_brands['source_file'].value_counts().index)\n",
        "plt.xlabel('Manufacturers')\n",
        "plt.ylabel('Sales-Units')"
      ],
      "execution_count": null,
      "outputs": [
        {
          "output_type": "stream",
          "text": [
            "/usr/local/lib/python3.7/dist-packages/seaborn/_decorators.py:43: FutureWarning: Pass the following variable as a keyword arg: x. From version 0.12, the only valid positional argument will be `data`, and passing other arguments without an explicit keyword will result in an error or misinterpretation.\n",
            "  FutureWarning\n"
          ],
          "name": "stderr"
        },
        {
          "output_type": "execute_result",
          "data": {
            "text/plain": [
              "Text(0, 0.5, 'Sales-Units')"
            ]
          },
          "metadata": {
            "tags": []
          },
          "execution_count": 38
        },
        {
          "output_type": "display_data",
          "data": {
            "image/png": "[encoded data removed]",
            "text/plain": [
              "<Figure size 432x288 with 1 Axes>"
            ]
          },
          "metadata": {
            "tags": [],
            "needs_background": "light"
          }
        }
      ]
    },
    {
      "cell_type": "code",
      "metadata": {
        "id": "NdIj_CYIi6jq",
        "colab": {
          "base_uri": "https://localhost:8080/"
        },
        "outputId": "3303a0d5-1ae2-4130-981f-dc8ab3f3ecd9"
      },
      "source": [
        "market_value_by_brand = df_cars_all_brands.groupby(['source_file'])['price'].sum().sort_values(ascending=False)\n",
        "market_value_by_brand.plot(kind='bar', color='b')\n",
        "plt.xlabel('Manufacturers')\n",
        "plt.ylabel('Value Market')\n",
        "plt.show()"
      ],
      "execution_count": null,
      "outputs": [
        {
          "output_type": "display_data",
          "data": {
            "image/png": "[encoded data removed]",
            "text/plain": [
              "<Figure size 432x288 with 1 Axes>"
            ]
          },
          "metadata": {
            "tags": [],
            "needs_background": "light"
          }
        }
      ]
    },
    {
      "cell_type": "code",
      "metadata": {
        "colab": {
          "base_uri": "https://localhost:8080/"
        },
        "id": "YIaz-U9NAvfQ",
        "outputId": "5d44596f-b421-4d46-8c03-fbf7ce3ab30c"
      },
      "source": [
        "df_cars_all_brands.groupby(['source_file'])['price'].sum().sort_values(ascending=False)"
      ],
      "execution_count": null,
      "outputs": [
        {
          "output_type": "execute_result",
          "data": {
            "text/plain": [
              "source_file\n",
              "merc        316824443\n",
              "vw          250320026\n",
              "bmw         241996965\n",
              "audi        241452046\n",
              "ford        218537038\n",
              "vauxhall    136746453\n",
              "skoda        88394359\n",
              "toyota       83937124\n",
              "hyundai      60762562\n",
              "Name: price, dtype: int64"
            ]
          },
          "metadata": {
            "tags": []
          },
          "execution_count": 40
        }
      ]
    },
    {
      "cell_type": "code",
      "metadata": {
        "colab": {
          "base_uri": "https://localhost:8080/"
        },
        "id": "14AeKGeQfiTw",
        "outputId": "8f5bd972-b3c2-4f85-dcb1-a51de3c25043"
      },
      "source": [
        "df_cars_all_brands.groupby(['model'])['price'].count().sort_values(ascending=False)"
      ],
      "execution_count": null,
      "outputs": [
        {
          "output_type": "execute_result",
          "data": {
            "text/plain": [
              "model\n",
              " Fiesta     6509\n",
              " Golf       4797\n",
              " Focus      4555\n",
              " C Class    3694\n",
              " Corsa      3285\n",
              "            ... \n",
              " RS7           1\n",
              " Ranger        1\n",
              "180            1\n",
              "200            1\n",
              "230            1\n",
              "Name: price, Length: 195, dtype: int64"
            ]
          },
          "metadata": {
            "tags": []
          },
          "execution_count": 41
        }
      ]
    },
    {
      "cell_type": "code",
      "metadata": {
        "colab": {
          "base_uri": "https://localhost:8080/"
        },
        "id": "TmeAL92sfXoi",
        "outputId": "f66ae518-51bb-4d43-cafe-b046ba3a1e3f"
      },
      "source": [
        "df_cars_all_brands.groupby(['model'])['price'].sum().sort_values(ascending=False)"
      ],
      "execution_count": null,
      "outputs": [
        {
          "output_type": "execute_result",
          "data": {
            "text/plain": [
              "model\n",
              " C Class     87391114\n",
              " Golf        79811121\n",
              " Fiesta      66332283\n",
              " Focus       60030224\n",
              " E Class     49007730\n",
              "               ...   \n",
              " Streetka        3849\n",
              " Escort          3000\n",
              " A2              2490\n",
              " Amica           1750\n",
              " Accent          1295\n",
              "Name: price, Length: 195, dtype: int64"
            ]
          },
          "metadata": {
            "tags": []
          },
          "execution_count": 42
        }
      ]
    },
    {
      "cell_type": "code",
      "metadata": {
        "colab": {
          "base_uri": "https://localhost:8080/"
        },
        "id": "_gfeOYXk9Ala",
        "outputId": "e84d9603-40af-4624-a29e-bb0e6f3b3982"
      },
      "source": [
        "df_cars_all_brands['price'].sum()"
      ],
      "execution_count": null,
      "outputs": [
        {
          "output_type": "execute_result",
          "data": {
            "text/plain": [
              "1638971016"
            ]
          },
          "metadata": {
            "tags": []
          },
          "execution_count": 43
        }
      ]
    },
    {
      "cell_type": "code",
      "metadata": {
        "id": "QrQ1PhCUUJNX"
      },
      "source": [
        ""
      ],
      "execution_count": null,
      "outputs": []
    },
    {
      "cell_type": "markdown",
      "metadata": {
        "id": "yGUH_MTHbIGO"
      },
      "source": [
        "# Machine Learning Regression Models:"
      ]
    },
    {
      "cell_type": "markdown",
      "metadata": {
        "id": "yZHfUq0SbYJr"
      },
      "source": [
        "<H2>Features Engineering<H2>"
      ]
    },
    {
      "cell_type": "markdown",
      "metadata": {
        "id": "udIW9tQEbRtc"
      },
      "source": [
        "<H3>Numerical Features<H3>"
      ]
    },
    {
      "cell_type": "code",
      "metadata": {
        "colab": {
          "base_uri": "https://localhost:8080/"
        },
        "id": "c04aAb4FbLAF",
        "outputId": "a9ad1083-717f-46f3-a2ab-305ad733304b"
      },
      "source": [
        "numerical_cols = [cname for cname in df_cars_all_brands.columns if \n",
        "                  df_cars_all_brands[cname].dtype in ['int64', 'float64'] ]\n",
        "numerical_cols"
      ],
      "execution_count": null,
      "outputs": [
        {
          "output_type": "execute_result",
          "data": {
            "text/plain": [
              "['year', 'price', 'mileage', 'tax', 'mpg', 'engineSize']"
            ]
          },
          "metadata": {
            "tags": []
          },
          "execution_count": 44
        }
      ]
    },
    {
      "cell_type": "markdown",
      "metadata": {
        "id": "llirw71bbrec"
      },
      "source": [
        "<H3>Categorical Features<H3>"
      ]
    },
    {
      "cell_type": "code",
      "metadata": {
        "colab": {
          "base_uri": "https://localhost:8080/"
        },
        "id": "6w80_uqHbq0g",
        "outputId": "062151c2-0d10-4c2a-beaa-f34d6474ca16"
      },
      "source": [
        "#Test 1 \"model\" will not be used as a feature due to has to many categories\n",
        "#Test 2 \"wodel\" were considered to improve R2 Model Score from .76 to .86\n",
        "categorical_cols"
      ],
      "execution_count": null,
      "outputs": [
        {
          "output_type": "execute_result",
          "data": {
            "text/plain": [
              "['model', 'transmission', 'fuelType', 'source_file']"
            ]
          },
          "metadata": {
            "tags": []
          },
          "execution_count": 45
        }
      ]
    },
    {
      "cell_type": "code",
      "metadata": {
        "colab": {
          "base_uri": "https://localhost:8080/"
        },
        "id": "ZTTEWok_b_bm",
        "outputId": "0518a7dc-fc78-40a7-a530-a464fdddbfb5"
      },
      "source": [
        "x_feature_cols = categorical_cols + numerical_cols\n",
        "##Removing Y (Target)\n",
        "x_feature_cols.remove('price')\n",
        "x_feature_cols"
      ],
      "execution_count": null,
      "outputs": [
        {
          "output_type": "execute_result",
          "data": {
            "text/plain": [
              "['model',\n",
              " 'transmission',\n",
              " 'fuelType',\n",
              " 'source_file',\n",
              " 'year',\n",
              " 'mileage',\n",
              " 'tax',\n",
              " 'mpg',\n",
              " 'engineSize']"
            ]
          },
          "metadata": {
            "tags": []
          },
          "execution_count": 46
        }
      ]
    },
    {
      "cell_type": "code",
      "metadata": {
        "colab": {
          "base_uri": "https://localhost:8080/",
          "height": 422
        },
        "id": "KIJ4xjB2hhd7",
        "outputId": "7ec1cd40-a25c-435a-9644-d12964af55c4"
      },
      "source": [
        "df_x_features = df_cars_all_brands[x_feature_cols]\n",
        "df_x_features"
      ],
      "execution_count": null,
      "outputs": [
        {
          "output_type": "execute_result",
          "data": {
            "text/html": [
              "<div>\n",
              "<style scoped>\n",
              "    .dataframe tbody tr th:only-of-type {\n",
              "        vertical-align: middle;\n",
              "    }\n",
              "\n",
              "    .dataframe tbody tr th {\n",
              "        vertical-align: top;\n",
              "    }\n",
              "\n",
              "    .dataframe thead th {\n",
              "        text-align: right;\n",
              "    }\n",
              "</style>\n",
              "<table border=\"1\" class=\"dataframe\">\n",
              "  <thead>\n",
              "    <tr style=\"text-align: right;\">\n",
              "      <th></th>\n",
              "      <th>model</th>\n",
              "      <th>transmission</th>\n",
              "      <th>fuelType</th>\n",
              "      <th>source_file</th>\n",
              "      <th>year</th>\n",
              "      <th>mileage</th>\n",
              "      <th>tax</th>\n",
              "      <th>mpg</th>\n",
              "      <th>engineSize</th>\n",
              "    </tr>\n",
              "  </thead>\n",
              "  <tbody>\n",
              "    <tr>\n",
              "      <th>0</th>\n",
              "      <td>GT86</td>\n",
              "      <td>Manual</td>\n",
              "      <td>Petrol</td>\n",
              "      <td>toyota</td>\n",
              "      <td>2016</td>\n",
              "      <td>24089</td>\n",
              "      <td>265</td>\n",
              "      <td>36.2</td>\n",
              "      <td>2.0</td>\n",
              "    </tr>\n",
              "    <tr>\n",
              "      <th>1</th>\n",
              "      <td>GT86</td>\n",
              "      <td>Manual</td>\n",
              "      <td>Petrol</td>\n",
              "      <td>toyota</td>\n",
              "      <td>2017</td>\n",
              "      <td>18615</td>\n",
              "      <td>145</td>\n",
              "      <td>36.2</td>\n",
              "      <td>2.0</td>\n",
              "    </tr>\n",
              "    <tr>\n",
              "      <th>2</th>\n",
              "      <td>GT86</td>\n",
              "      <td>Manual</td>\n",
              "      <td>Petrol</td>\n",
              "      <td>toyota</td>\n",
              "      <td>2015</td>\n",
              "      <td>27469</td>\n",
              "      <td>265</td>\n",
              "      <td>36.2</td>\n",
              "      <td>2.0</td>\n",
              "    </tr>\n",
              "    <tr>\n",
              "      <th>3</th>\n",
              "      <td>GT86</td>\n",
              "      <td>Manual</td>\n",
              "      <td>Petrol</td>\n",
              "      <td>toyota</td>\n",
              "      <td>2017</td>\n",
              "      <td>14736</td>\n",
              "      <td>150</td>\n",
              "      <td>36.2</td>\n",
              "      <td>2.0</td>\n",
              "    </tr>\n",
              "    <tr>\n",
              "      <th>4</th>\n",
              "      <td>GT86</td>\n",
              "      <td>Manual</td>\n",
              "      <td>Petrol</td>\n",
              "      <td>toyota</td>\n",
              "      <td>2017</td>\n",
              "      <td>36284</td>\n",
              "      <td>145</td>\n",
              "      <td>36.2</td>\n",
              "      <td>2.0</td>\n",
              "    </tr>\n",
              "    <tr>\n",
              "      <th>...</th>\n",
              "      <td>...</td>\n",
              "      <td>...</td>\n",
              "      <td>...</td>\n",
              "      <td>...</td>\n",
              "      <td>...</td>\n",
              "      <td>...</td>\n",
              "      <td>...</td>\n",
              "      <td>...</td>\n",
              "      <td>...</td>\n",
              "    </tr>\n",
              "    <tr>\n",
              "      <th>97707</th>\n",
              "      <td>I30</td>\n",
              "      <td>Manual</td>\n",
              "      <td>Diesel</td>\n",
              "      <td>hyundai</td>\n",
              "      <td>2016</td>\n",
              "      <td>25906</td>\n",
              "      <td>0</td>\n",
              "      <td>78.4</td>\n",
              "      <td>1.6</td>\n",
              "    </tr>\n",
              "    <tr>\n",
              "      <th>97708</th>\n",
              "      <td>I40</td>\n",
              "      <td>Manual</td>\n",
              "      <td>Diesel</td>\n",
              "      <td>hyundai</td>\n",
              "      <td>2015</td>\n",
              "      <td>59508</td>\n",
              "      <td>30</td>\n",
              "      <td>65.7</td>\n",
              "      <td>1.7</td>\n",
              "    </tr>\n",
              "    <tr>\n",
              "      <th>97709</th>\n",
              "      <td>I10</td>\n",
              "      <td>Manual</td>\n",
              "      <td>Petrol</td>\n",
              "      <td>hyundai</td>\n",
              "      <td>2017</td>\n",
              "      <td>13810</td>\n",
              "      <td>20</td>\n",
              "      <td>60.1</td>\n",
              "      <td>1.0</td>\n",
              "    </tr>\n",
              "    <tr>\n",
              "      <th>97710</th>\n",
              "      <td>Tucson</td>\n",
              "      <td>Manual</td>\n",
              "      <td>Petrol</td>\n",
              "      <td>hyundai</td>\n",
              "      <td>2018</td>\n",
              "      <td>23313</td>\n",
              "      <td>145</td>\n",
              "      <td>44.8</td>\n",
              "      <td>1.6</td>\n",
              "    </tr>\n",
              "    <tr>\n",
              "      <th>97711</th>\n",
              "      <td>Tucson</td>\n",
              "      <td>Automatic</td>\n",
              "      <td>Diesel</td>\n",
              "      <td>hyundai</td>\n",
              "      <td>2016</td>\n",
              "      <td>11472</td>\n",
              "      <td>125</td>\n",
              "      <td>57.6</td>\n",
              "      <td>1.7</td>\n",
              "    </tr>\n",
              "  </tbody>\n",
              "</table>\n",
              "<p>97712 rows × 9 columns</p>\n",
              "</div>"
            ],
            "text/plain": [
              "         model transmission fuelType  ...  tax   mpg  engineSize\n",
              "0         GT86       Manual   Petrol  ...  265  36.2         2.0\n",
              "1         GT86       Manual   Petrol  ...  145  36.2         2.0\n",
              "2         GT86       Manual   Petrol  ...  265  36.2         2.0\n",
              "3         GT86       Manual   Petrol  ...  150  36.2         2.0\n",
              "4         GT86       Manual   Petrol  ...  145  36.2         2.0\n",
              "...        ...          ...      ...  ...  ...   ...         ...\n",
              "97707      I30       Manual   Diesel  ...    0  78.4         1.6\n",
              "97708      I40       Manual   Diesel  ...   30  65.7         1.7\n",
              "97709      I10       Manual   Petrol  ...   20  60.1         1.0\n",
              "97710   Tucson       Manual   Petrol  ...  145  44.8         1.6\n",
              "97711   Tucson    Automatic   Diesel  ...  125  57.6         1.7\n",
              "\n",
              "[97712 rows x 9 columns]"
            ]
          },
          "metadata": {
            "tags": []
          },
          "execution_count": 47
        }
      ]
    },
    {
      "cell_type": "markdown",
      "metadata": {
        "id": "8wvDBO8BiDA3"
      },
      "source": [
        "<H4>Dealing with categorical features<H4>"
      ]
    },
    {
      "cell_type": "code",
      "metadata": {
        "id": "M0I-WBjTiGwc"
      },
      "source": [
        "#One-hot encoding from Scikit-Learn\n",
        "#Dummy Encoding from Pandas"
      ],
      "execution_count": null,
      "outputs": []
    },
    {
      "cell_type": "code",
      "metadata": {
        "colab": {
          "base_uri": "https://localhost:8080/",
          "height": 476
        },
        "id": "eF6ym7E-iRLC",
        "outputId": "d14ff13a-d67b-49af-ec1b-be7e0e030911"
      },
      "source": [
        "#prefix='Encoded'\n",
        "x_encoded_train_predictors = pd.get_dummies(df_x_features)\n",
        "x_encoded_train_predictors"
      ],
      "execution_count": null,
      "outputs": [
        {
          "output_type": "execute_result",
          "data": {
            "text/html": [
              "<div>\n",
              "<style scoped>\n",
              "    .dataframe tbody tr th:only-of-type {\n",
              "        vertical-align: middle;\n",
              "    }\n",
              "\n",
              "    .dataframe tbody tr th {\n",
              "        vertical-align: top;\n",
              "    }\n",
              "\n",
              "    .dataframe thead th {\n",
              "        text-align: right;\n",
              "    }\n",
              "</style>\n",
              "<table border=\"1\" class=\"dataframe\">\n",
              "  <thead>\n",
              "    <tr style=\"text-align: right;\">\n",
              "      <th></th>\n",
              "      <th>year</th>\n",
              "      <th>mileage</th>\n",
              "      <th>tax</th>\n",
              "      <th>mpg</th>\n",
              "      <th>engineSize</th>\n",
              "      <th>model_ 1 Series</th>\n",
              "      <th>model_ 2 Series</th>\n",
              "      <th>model_ 3 Series</th>\n",
              "      <th>model_ 4 Series</th>\n",
              "      <th>model_ 5 Series</th>\n",
              "      <th>model_ 6 Series</th>\n",
              "      <th>model_ 7 Series</th>\n",
              "      <th>model_ 8 Series</th>\n",
              "      <th>model_ A Class</th>\n",
              "      <th>model_ A1</th>\n",
              "      <th>model_ A2</th>\n",
              "      <th>model_ A3</th>\n",
              "      <th>model_ A4</th>\n",
              "      <th>model_ A5</th>\n",
              "      <th>model_ A6</th>\n",
              "      <th>model_ A7</th>\n",
              "      <th>model_ A8</th>\n",
              "      <th>model_ Accent</th>\n",
              "      <th>model_ Adam</th>\n",
              "      <th>model_ Agila</th>\n",
              "      <th>model_ Amarok</th>\n",
              "      <th>model_ Amica</th>\n",
              "      <th>model_ Ampera</th>\n",
              "      <th>model_ Antara</th>\n",
              "      <th>model_ Arteon</th>\n",
              "      <th>model_ Astra</th>\n",
              "      <th>model_ Auris</th>\n",
              "      <th>model_ Avensis</th>\n",
              "      <th>model_ Aygo</th>\n",
              "      <th>model_ B Class</th>\n",
              "      <th>model_ B-MAX</th>\n",
              "      <th>model_ Beetle</th>\n",
              "      <th>model_ C Class</th>\n",
              "      <th>model_ C-HR</th>\n",
              "      <th>model_ C-MAX</th>\n",
              "      <th>...</th>\n",
              "      <th>model_ Vivaro</th>\n",
              "      <th>model_ X-CLASS</th>\n",
              "      <th>model_ X1</th>\n",
              "      <th>model_ X2</th>\n",
              "      <th>model_ X3</th>\n",
              "      <th>model_ X4</th>\n",
              "      <th>model_ X5</th>\n",
              "      <th>model_ X6</th>\n",
              "      <th>model_ X7</th>\n",
              "      <th>model_ Yaris</th>\n",
              "      <th>model_ Yeti</th>\n",
              "      <th>model_ Yeti Outdoor</th>\n",
              "      <th>model_ Z3</th>\n",
              "      <th>model_ Z4</th>\n",
              "      <th>model_ Zafira</th>\n",
              "      <th>model_ Zafira Tourer</th>\n",
              "      <th>model_ i3</th>\n",
              "      <th>model_ i8</th>\n",
              "      <th>model_180</th>\n",
              "      <th>model_200</th>\n",
              "      <th>model_220</th>\n",
              "      <th>model_230</th>\n",
              "      <th>transmission_Automatic</th>\n",
              "      <th>transmission_Manual</th>\n",
              "      <th>transmission_Other</th>\n",
              "      <th>transmission_Semi-Auto</th>\n",
              "      <th>fuelType_Diesel</th>\n",
              "      <th>fuelType_Electric</th>\n",
              "      <th>fuelType_Hybrid</th>\n",
              "      <th>fuelType_Other</th>\n",
              "      <th>fuelType_Petrol</th>\n",
              "      <th>source_file_audi</th>\n",
              "      <th>source_file_bmw</th>\n",
              "      <th>source_file_ford</th>\n",
              "      <th>source_file_hyundai</th>\n",
              "      <th>source_file_merc</th>\n",
              "      <th>source_file_skoda</th>\n",
              "      <th>source_file_toyota</th>\n",
              "      <th>source_file_vauxhall</th>\n",
              "      <th>source_file_vw</th>\n",
              "    </tr>\n",
              "  </thead>\n",
              "  <tbody>\n",
              "    <tr>\n",
              "      <th>0</th>\n",
              "      <td>2016</td>\n",
              "      <td>24089</td>\n",
              "      <td>265</td>\n",
              "      <td>36.2</td>\n",
              "      <td>2.0</td>\n",
              "      <td>0</td>\n",
              "      <td>0</td>\n",
              "      <td>0</td>\n",
              "      <td>0</td>\n",
              "      <td>0</td>\n",
              "      <td>0</td>\n",
              "      <td>0</td>\n",
              "      <td>0</td>\n",
              "      <td>0</td>\n",
              "      <td>0</td>\n",
              "      <td>0</td>\n",
              "      <td>0</td>\n",
              "      <td>0</td>\n",
              "      <td>0</td>\n",
              "      <td>0</td>\n",
              "      <td>0</td>\n",
              "      <td>0</td>\n",
              "      <td>0</td>\n",
              "      <td>0</td>\n",
              "      <td>0</td>\n",
              "      <td>0</td>\n",
              "      <td>0</td>\n",
              "      <td>0</td>\n",
              "      <td>0</td>\n",
              "      <td>0</td>\n",
              "      <td>0</td>\n",
              "      <td>0</td>\n",
              "      <td>0</td>\n",
              "      <td>0</td>\n",
              "      <td>0</td>\n",
              "      <td>0</td>\n",
              "      <td>0</td>\n",
              "      <td>0</td>\n",
              "      <td>0</td>\n",
              "      <td>0</td>\n",
              "      <td>...</td>\n",
              "      <td>0</td>\n",
              "      <td>0</td>\n",
              "      <td>0</td>\n",
              "      <td>0</td>\n",
              "      <td>0</td>\n",
              "      <td>0</td>\n",
              "      <td>0</td>\n",
              "      <td>0</td>\n",
              "      <td>0</td>\n",
              "      <td>0</td>\n",
              "      <td>0</td>\n",
              "      <td>0</td>\n",
              "      <td>0</td>\n",
              "      <td>0</td>\n",
              "      <td>0</td>\n",
              "      <td>0</td>\n",
              "      <td>0</td>\n",
              "      <td>0</td>\n",
              "      <td>0</td>\n",
              "      <td>0</td>\n",
              "      <td>0</td>\n",
              "      <td>0</td>\n",
              "      <td>0</td>\n",
              "      <td>1</td>\n",
              "      <td>0</td>\n",
              "      <td>0</td>\n",
              "      <td>0</td>\n",
              "      <td>0</td>\n",
              "      <td>0</td>\n",
              "      <td>0</td>\n",
              "      <td>1</td>\n",
              "      <td>0</td>\n",
              "      <td>0</td>\n",
              "      <td>0</td>\n",
              "      <td>0</td>\n",
              "      <td>0</td>\n",
              "      <td>0</td>\n",
              "      <td>1</td>\n",
              "      <td>0</td>\n",
              "      <td>0</td>\n",
              "    </tr>\n",
              "    <tr>\n",
              "      <th>1</th>\n",
              "      <td>2017</td>\n",
              "      <td>18615</td>\n",
              "      <td>145</td>\n",
              "      <td>36.2</td>\n",
              "      <td>2.0</td>\n",
              "      <td>0</td>\n",
              "      <td>0</td>\n",
              "      <td>0</td>\n",
              "      <td>0</td>\n",
              "      <td>0</td>\n",
              "      <td>0</td>\n",
              "      <td>0</td>\n",
              "      <td>0</td>\n",
              "      <td>0</td>\n",
              "      <td>0</td>\n",
              "      <td>0</td>\n",
              "      <td>0</td>\n",
              "      <td>0</td>\n",
              "      <td>0</td>\n",
              "      <td>0</td>\n",
              "      <td>0</td>\n",
              "      <td>0</td>\n",
              "      <td>0</td>\n",
              "      <td>0</td>\n",
              "      <td>0</td>\n",
              "      <td>0</td>\n",
              "      <td>0</td>\n",
              "      <td>0</td>\n",
              "      <td>0</td>\n",
              "      <td>0</td>\n",
              "      <td>0</td>\n",
              "      <td>0</td>\n",
              "      <td>0</td>\n",
              "      <td>0</td>\n",
              "      <td>0</td>\n",
              "      <td>0</td>\n",
              "      <td>0</td>\n",
              "      <td>0</td>\n",
              "      <td>0</td>\n",
              "      <td>0</td>\n",
              "      <td>...</td>\n",
              "      <td>0</td>\n",
              "      <td>0</td>\n",
              "      <td>0</td>\n",
              "      <td>0</td>\n",
              "      <td>0</td>\n",
              "      <td>0</td>\n",
              "      <td>0</td>\n",
              "      <td>0</td>\n",
              "      <td>0</td>\n",
              "      <td>0</td>\n",
              "      <td>0</td>\n",
              "      <td>0</td>\n",
              "      <td>0</td>\n",
              "      <td>0</td>\n",
              "      <td>0</td>\n",
              "      <td>0</td>\n",
              "      <td>0</td>\n",
              "      <td>0</td>\n",
              "      <td>0</td>\n",
              "      <td>0</td>\n",
              "      <td>0</td>\n",
              "      <td>0</td>\n",
              "      <td>0</td>\n",
              "      <td>1</td>\n",
              "      <td>0</td>\n",
              "      <td>0</td>\n",
              "      <td>0</td>\n",
              "      <td>0</td>\n",
              "      <td>0</td>\n",
              "      <td>0</td>\n",
              "      <td>1</td>\n",
              "      <td>0</td>\n",
              "      <td>0</td>\n",
              "      <td>0</td>\n",
              "      <td>0</td>\n",
              "      <td>0</td>\n",
              "      <td>0</td>\n",
              "      <td>1</td>\n",
              "      <td>0</td>\n",
              "      <td>0</td>\n",
              "    </tr>\n",
              "    <tr>\n",
              "      <th>2</th>\n",
              "      <td>2015</td>\n",
              "      <td>27469</td>\n",
              "      <td>265</td>\n",
              "      <td>36.2</td>\n",
              "      <td>2.0</td>\n",
              "      <td>0</td>\n",
              "      <td>0</td>\n",
              "      <td>0</td>\n",
              "      <td>0</td>\n",
              "      <td>0</td>\n",
              "      <td>0</td>\n",
              "      <td>0</td>\n",
              "      <td>0</td>\n",
              "      <td>0</td>\n",
              "      <td>0</td>\n",
              "      <td>0</td>\n",
              "      <td>0</td>\n",
              "      <td>0</td>\n",
              "      <td>0</td>\n",
              "      <td>0</td>\n",
              "      <td>0</td>\n",
              "      <td>0</td>\n",
              "      <td>0</td>\n",
              "      <td>0</td>\n",
              "      <td>0</td>\n",
              "      <td>0</td>\n",
              "      <td>0</td>\n",
              "      <td>0</td>\n",
              "      <td>0</td>\n",
              "      <td>0</td>\n",
              "      <td>0</td>\n",
              "      <td>0</td>\n",
              "      <td>0</td>\n",
              "      <td>0</td>\n",
              "      <td>0</td>\n",
              "      <td>0</td>\n",
              "      <td>0</td>\n",
              "      <td>0</td>\n",
              "      <td>0</td>\n",
              "      <td>0</td>\n",
              "      <td>...</td>\n",
              "      <td>0</td>\n",
              "      <td>0</td>\n",
              "      <td>0</td>\n",
              "      <td>0</td>\n",
              "      <td>0</td>\n",
              "      <td>0</td>\n",
              "      <td>0</td>\n",
              "      <td>0</td>\n",
              "      <td>0</td>\n",
              "      <td>0</td>\n",
              "      <td>0</td>\n",
              "      <td>0</td>\n",
              "      <td>0</td>\n",
              "      <td>0</td>\n",
              "      <td>0</td>\n",
              "      <td>0</td>\n",
              "      <td>0</td>\n",
              "      <td>0</td>\n",
              "      <td>0</td>\n",
              "      <td>0</td>\n",
              "      <td>0</td>\n",
              "      <td>0</td>\n",
              "      <td>0</td>\n",
              "      <td>1</td>\n",
              "      <td>0</td>\n",
              "      <td>0</td>\n",
              "      <td>0</td>\n",
              "      <td>0</td>\n",
              "      <td>0</td>\n",
              "      <td>0</td>\n",
              "      <td>1</td>\n",
              "      <td>0</td>\n",
              "      <td>0</td>\n",
              "      <td>0</td>\n",
              "      <td>0</td>\n",
              "      <td>0</td>\n",
              "      <td>0</td>\n",
              "      <td>1</td>\n",
              "      <td>0</td>\n",
              "      <td>0</td>\n",
              "    </tr>\n",
              "    <tr>\n",
              "      <th>3</th>\n",
              "      <td>2017</td>\n",
              "      <td>14736</td>\n",
              "      <td>150</td>\n",
              "      <td>36.2</td>\n",
              "      <td>2.0</td>\n",
              "      <td>0</td>\n",
              "      <td>0</td>\n",
              "      <td>0</td>\n",
              "      <td>0</td>\n",
              "      <td>0</td>\n",
              "      <td>0</td>\n",
              "      <td>0</td>\n",
              "      <td>0</td>\n",
              "      <td>0</td>\n",
              "      <td>0</td>\n",
              "      <td>0</td>\n",
              "      <td>0</td>\n",
              "      <td>0</td>\n",
              "      <td>0</td>\n",
              "      <td>0</td>\n",
              "      <td>0</td>\n",
              "      <td>0</td>\n",
              "      <td>0</td>\n",
              "      <td>0</td>\n",
              "      <td>0</td>\n",
              "      <td>0</td>\n",
              "      <td>0</td>\n",
              "      <td>0</td>\n",
              "      <td>0</td>\n",
              "      <td>0</td>\n",
              "      <td>0</td>\n",
              "      <td>0</td>\n",
              "      <td>0</td>\n",
              "      <td>0</td>\n",
              "      <td>0</td>\n",
              "      <td>0</td>\n",
              "      <td>0</td>\n",
              "      <td>0</td>\n",
              "      <td>0</td>\n",
              "      <td>0</td>\n",
              "      <td>...</td>\n",
              "      <td>0</td>\n",
              "      <td>0</td>\n",
              "      <td>0</td>\n",
              "      <td>0</td>\n",
              "      <td>0</td>\n",
              "      <td>0</td>\n",
              "      <td>0</td>\n",
              "      <td>0</td>\n",
              "      <td>0</td>\n",
              "      <td>0</td>\n",
              "      <td>0</td>\n",
              "      <td>0</td>\n",
              "      <td>0</td>\n",
              "      <td>0</td>\n",
              "      <td>0</td>\n",
              "      <td>0</td>\n",
              "      <td>0</td>\n",
              "      <td>0</td>\n",
              "      <td>0</td>\n",
              "      <td>0</td>\n",
              "      <td>0</td>\n",
              "      <td>0</td>\n",
              "      <td>0</td>\n",
              "      <td>1</td>\n",
              "      <td>0</td>\n",
              "      <td>0</td>\n",
              "      <td>0</td>\n",
              "      <td>0</td>\n",
              "      <td>0</td>\n",
              "      <td>0</td>\n",
              "      <td>1</td>\n",
              "      <td>0</td>\n",
              "      <td>0</td>\n",
              "      <td>0</td>\n",
              "      <td>0</td>\n",
              "      <td>0</td>\n",
              "      <td>0</td>\n",
              "      <td>1</td>\n",
              "      <td>0</td>\n",
              "      <td>0</td>\n",
              "    </tr>\n",
              "    <tr>\n",
              "      <th>4</th>\n",
              "      <td>2017</td>\n",
              "      <td>36284</td>\n",
              "      <td>145</td>\n",
              "      <td>36.2</td>\n",
              "      <td>2.0</td>\n",
              "      <td>0</td>\n",
              "      <td>0</td>\n",
              "      <td>0</td>\n",
              "      <td>0</td>\n",
              "      <td>0</td>\n",
              "      <td>0</td>\n",
              "      <td>0</td>\n",
              "      <td>0</td>\n",
              "      <td>0</td>\n",
              "      <td>0</td>\n",
              "      <td>0</td>\n",
              "      <td>0</td>\n",
              "      <td>0</td>\n",
              "      <td>0</td>\n",
              "      <td>0</td>\n",
              "      <td>0</td>\n",
              "      <td>0</td>\n",
              "      <td>0</td>\n",
              "      <td>0</td>\n",
              "      <td>0</td>\n",
              "      <td>0</td>\n",
              "      <td>0</td>\n",
              "      <td>0</td>\n",
              "      <td>0</td>\n",
              "      <td>0</td>\n",
              "      <td>0</td>\n",
              "      <td>0</td>\n",
              "      <td>0</td>\n",
              "      <td>0</td>\n",
              "      <td>0</td>\n",
              "      <td>0</td>\n",
              "      <td>0</td>\n",
              "      <td>0</td>\n",
              "      <td>0</td>\n",
              "      <td>0</td>\n",
              "      <td>...</td>\n",
              "      <td>0</td>\n",
              "      <td>0</td>\n",
              "      <td>0</td>\n",
              "      <td>0</td>\n",
              "      <td>0</td>\n",
              "      <td>0</td>\n",
              "      <td>0</td>\n",
              "      <td>0</td>\n",
              "      <td>0</td>\n",
              "      <td>0</td>\n",
              "      <td>0</td>\n",
              "      <td>0</td>\n",
              "      <td>0</td>\n",
              "      <td>0</td>\n",
              "      <td>0</td>\n",
              "      <td>0</td>\n",
              "      <td>0</td>\n",
              "      <td>0</td>\n",
              "      <td>0</td>\n",
              "      <td>0</td>\n",
              "      <td>0</td>\n",
              "      <td>0</td>\n",
              "      <td>0</td>\n",
              "      <td>1</td>\n",
              "      <td>0</td>\n",
              "      <td>0</td>\n",
              "      <td>0</td>\n",
              "      <td>0</td>\n",
              "      <td>0</td>\n",
              "      <td>0</td>\n",
              "      <td>1</td>\n",
              "      <td>0</td>\n",
              "      <td>0</td>\n",
              "      <td>0</td>\n",
              "      <td>0</td>\n",
              "      <td>0</td>\n",
              "      <td>0</td>\n",
              "      <td>1</td>\n",
              "      <td>0</td>\n",
              "      <td>0</td>\n",
              "    </tr>\n",
              "    <tr>\n",
              "      <th>...</th>\n",
              "      <td>...</td>\n",
              "      <td>...</td>\n",
              "      <td>...</td>\n",
              "      <td>...</td>\n",
              "      <td>...</td>\n",
              "      <td>...</td>\n",
              "      <td>...</td>\n",
              "      <td>...</td>\n",
              "      <td>...</td>\n",
              "      <td>...</td>\n",
              "      <td>...</td>\n",
              "      <td>...</td>\n",
              "      <td>...</td>\n",
              "      <td>...</td>\n",
              "      <td>...</td>\n",
              "      <td>...</td>\n",
              "      <td>...</td>\n",
              "      <td>...</td>\n",
              "      <td>...</td>\n",
              "      <td>...</td>\n",
              "      <td>...</td>\n",
              "      <td>...</td>\n",
              "      <td>...</td>\n",
              "      <td>...</td>\n",
              "      <td>...</td>\n",
              "      <td>...</td>\n",
              "      <td>...</td>\n",
              "      <td>...</td>\n",
              "      <td>...</td>\n",
              "      <td>...</td>\n",
              "      <td>...</td>\n",
              "      <td>...</td>\n",
              "      <td>...</td>\n",
              "      <td>...</td>\n",
              "      <td>...</td>\n",
              "      <td>...</td>\n",
              "      <td>...</td>\n",
              "      <td>...</td>\n",
              "      <td>...</td>\n",
              "      <td>...</td>\n",
              "      <td>...</td>\n",
              "      <td>...</td>\n",
              "      <td>...</td>\n",
              "      <td>...</td>\n",
              "      <td>...</td>\n",
              "      <td>...</td>\n",
              "      <td>...</td>\n",
              "      <td>...</td>\n",
              "      <td>...</td>\n",
              "      <td>...</td>\n",
              "      <td>...</td>\n",
              "      <td>...</td>\n",
              "      <td>...</td>\n",
              "      <td>...</td>\n",
              "      <td>...</td>\n",
              "      <td>...</td>\n",
              "      <td>...</td>\n",
              "      <td>...</td>\n",
              "      <td>...</td>\n",
              "      <td>...</td>\n",
              "      <td>...</td>\n",
              "      <td>...</td>\n",
              "      <td>...</td>\n",
              "      <td>...</td>\n",
              "      <td>...</td>\n",
              "      <td>...</td>\n",
              "      <td>...</td>\n",
              "      <td>...</td>\n",
              "      <td>...</td>\n",
              "      <td>...</td>\n",
              "      <td>...</td>\n",
              "      <td>...</td>\n",
              "      <td>...</td>\n",
              "      <td>...</td>\n",
              "      <td>...</td>\n",
              "      <td>...</td>\n",
              "      <td>...</td>\n",
              "      <td>...</td>\n",
              "      <td>...</td>\n",
              "      <td>...</td>\n",
              "      <td>...</td>\n",
              "    </tr>\n",
              "    <tr>\n",
              "      <th>97707</th>\n",
              "      <td>2016</td>\n",
              "      <td>25906</td>\n",
              "      <td>0</td>\n",
              "      <td>78.4</td>\n",
              "      <td>1.6</td>\n",
              "      <td>0</td>\n",
              "      <td>0</td>\n",
              "      <td>0</td>\n",
              "      <td>0</td>\n",
              "      <td>0</td>\n",
              "      <td>0</td>\n",
              "      <td>0</td>\n",
              "      <td>0</td>\n",
              "      <td>0</td>\n",
              "      <td>0</td>\n",
              "      <td>0</td>\n",
              "      <td>0</td>\n",
              "      <td>0</td>\n",
              "      <td>0</td>\n",
              "      <td>0</td>\n",
              "      <td>0</td>\n",
              "      <td>0</td>\n",
              "      <td>0</td>\n",
              "      <td>0</td>\n",
              "      <td>0</td>\n",
              "      <td>0</td>\n",
              "      <td>0</td>\n",
              "      <td>0</td>\n",
              "      <td>0</td>\n",
              "      <td>0</td>\n",
              "      <td>0</td>\n",
              "      <td>0</td>\n",
              "      <td>0</td>\n",
              "      <td>0</td>\n",
              "      <td>0</td>\n",
              "      <td>0</td>\n",
              "      <td>0</td>\n",
              "      <td>0</td>\n",
              "      <td>0</td>\n",
              "      <td>0</td>\n",
              "      <td>...</td>\n",
              "      <td>0</td>\n",
              "      <td>0</td>\n",
              "      <td>0</td>\n",
              "      <td>0</td>\n",
              "      <td>0</td>\n",
              "      <td>0</td>\n",
              "      <td>0</td>\n",
              "      <td>0</td>\n",
              "      <td>0</td>\n",
              "      <td>0</td>\n",
              "      <td>0</td>\n",
              "      <td>0</td>\n",
              "      <td>0</td>\n",
              "      <td>0</td>\n",
              "      <td>0</td>\n",
              "      <td>0</td>\n",
              "      <td>0</td>\n",
              "      <td>0</td>\n",
              "      <td>0</td>\n",
              "      <td>0</td>\n",
              "      <td>0</td>\n",
              "      <td>0</td>\n",
              "      <td>0</td>\n",
              "      <td>1</td>\n",
              "      <td>0</td>\n",
              "      <td>0</td>\n",
              "      <td>1</td>\n",
              "      <td>0</td>\n",
              "      <td>0</td>\n",
              "      <td>0</td>\n",
              "      <td>0</td>\n",
              "      <td>0</td>\n",
              "      <td>0</td>\n",
              "      <td>0</td>\n",
              "      <td>1</td>\n",
              "      <td>0</td>\n",
              "      <td>0</td>\n",
              "      <td>0</td>\n",
              "      <td>0</td>\n",
              "      <td>0</td>\n",
              "    </tr>\n",
              "    <tr>\n",
              "      <th>97708</th>\n",
              "      <td>2015</td>\n",
              "      <td>59508</td>\n",
              "      <td>30</td>\n",
              "      <td>65.7</td>\n",
              "      <td>1.7</td>\n",
              "      <td>0</td>\n",
              "      <td>0</td>\n",
              "      <td>0</td>\n",
              "      <td>0</td>\n",
              "      <td>0</td>\n",
              "      <td>0</td>\n",
              "      <td>0</td>\n",
              "      <td>0</td>\n",
              "      <td>0</td>\n",
              "      <td>0</td>\n",
              "      <td>0</td>\n",
              "      <td>0</td>\n",
              "      <td>0</td>\n",
              "      <td>0</td>\n",
              "      <td>0</td>\n",
              "      <td>0</td>\n",
              "      <td>0</td>\n",
              "      <td>0</td>\n",
              "      <td>0</td>\n",
              "      <td>0</td>\n",
              "      <td>0</td>\n",
              "      <td>0</td>\n",
              "      <td>0</td>\n",
              "      <td>0</td>\n",
              "      <td>0</td>\n",
              "      <td>0</td>\n",
              "      <td>0</td>\n",
              "      <td>0</td>\n",
              "      <td>0</td>\n",
              "      <td>0</td>\n",
              "      <td>0</td>\n",
              "      <td>0</td>\n",
              "      <td>0</td>\n",
              "      <td>0</td>\n",
              "      <td>0</td>\n",
              "      <td>...</td>\n",
              "      <td>0</td>\n",
              "      <td>0</td>\n",
              "      <td>0</td>\n",
              "      <td>0</td>\n",
              "      <td>0</td>\n",
              "      <td>0</td>\n",
              "      <td>0</td>\n",
              "      <td>0</td>\n",
              "      <td>0</td>\n",
              "      <td>0</td>\n",
              "      <td>0</td>\n",
              "      <td>0</td>\n",
              "      <td>0</td>\n",
              "      <td>0</td>\n",
              "      <td>0</td>\n",
              "      <td>0</td>\n",
              "      <td>0</td>\n",
              "      <td>0</td>\n",
              "      <td>0</td>\n",
              "      <td>0</td>\n",
              "      <td>0</td>\n",
              "      <td>0</td>\n",
              "      <td>0</td>\n",
              "      <td>1</td>\n",
              "      <td>0</td>\n",
              "      <td>0</td>\n",
              "      <td>1</td>\n",
              "      <td>0</td>\n",
              "      <td>0</td>\n",
              "      <td>0</td>\n",
              "      <td>0</td>\n",
              "      <td>0</td>\n",
              "      <td>0</td>\n",
              "      <td>0</td>\n",
              "      <td>1</td>\n",
              "      <td>0</td>\n",
              "      <td>0</td>\n",
              "      <td>0</td>\n",
              "      <td>0</td>\n",
              "      <td>0</td>\n",
              "    </tr>\n",
              "    <tr>\n",
              "      <th>97709</th>\n",
              "      <td>2017</td>\n",
              "      <td>13810</td>\n",
              "      <td>20</td>\n",
              "      <td>60.1</td>\n",
              "      <td>1.0</td>\n",
              "      <td>0</td>\n",
              "      <td>0</td>\n",
              "      <td>0</td>\n",
              "      <td>0</td>\n",
              "      <td>0</td>\n",
              "      <td>0</td>\n",
              "      <td>0</td>\n",
              "      <td>0</td>\n",
              "      <td>0</td>\n",
              "      <td>0</td>\n",
              "      <td>0</td>\n",
              "      <td>0</td>\n",
              "      <td>0</td>\n",
              "      <td>0</td>\n",
              "      <td>0</td>\n",
              "      <td>0</td>\n",
              "      <td>0</td>\n",
              "      <td>0</td>\n",
              "      <td>0</td>\n",
              "      <td>0</td>\n",
              "      <td>0</td>\n",
              "      <td>0</td>\n",
              "      <td>0</td>\n",
              "      <td>0</td>\n",
              "      <td>0</td>\n",
              "      <td>0</td>\n",
              "      <td>0</td>\n",
              "      <td>0</td>\n",
              "      <td>0</td>\n",
              "      <td>0</td>\n",
              "      <td>0</td>\n",
              "      <td>0</td>\n",
              "      <td>0</td>\n",
              "      <td>0</td>\n",
              "      <td>0</td>\n",
              "      <td>...</td>\n",
              "      <td>0</td>\n",
              "      <td>0</td>\n",
              "      <td>0</td>\n",
              "      <td>0</td>\n",
              "      <td>0</td>\n",
              "      <td>0</td>\n",
              "      <td>0</td>\n",
              "      <td>0</td>\n",
              "      <td>0</td>\n",
              "      <td>0</td>\n",
              "      <td>0</td>\n",
              "      <td>0</td>\n",
              "      <td>0</td>\n",
              "      <td>0</td>\n",
              "      <td>0</td>\n",
              "      <td>0</td>\n",
              "      <td>0</td>\n",
              "      <td>0</td>\n",
              "      <td>0</td>\n",
              "      <td>0</td>\n",
              "      <td>0</td>\n",
              "      <td>0</td>\n",
              "      <td>0</td>\n",
              "      <td>1</td>\n",
              "      <td>0</td>\n",
              "      <td>0</td>\n",
              "      <td>0</td>\n",
              "      <td>0</td>\n",
              "      <td>0</td>\n",
              "      <td>0</td>\n",
              "      <td>1</td>\n",
              "      <td>0</td>\n",
              "      <td>0</td>\n",
              "      <td>0</td>\n",
              "      <td>1</td>\n",
              "      <td>0</td>\n",
              "      <td>0</td>\n",
              "      <td>0</td>\n",
              "      <td>0</td>\n",
              "      <td>0</td>\n",
              "    </tr>\n",
              "    <tr>\n",
              "      <th>97710</th>\n",
              "      <td>2018</td>\n",
              "      <td>23313</td>\n",
              "      <td>145</td>\n",
              "      <td>44.8</td>\n",
              "      <td>1.6</td>\n",
              "      <td>0</td>\n",
              "      <td>0</td>\n",
              "      <td>0</td>\n",
              "      <td>0</td>\n",
              "      <td>0</td>\n",
              "      <td>0</td>\n",
              "      <td>0</td>\n",
              "      <td>0</td>\n",
              "      <td>0</td>\n",
              "      <td>0</td>\n",
              "      <td>0</td>\n",
              "      <td>0</td>\n",
              "      <td>0</td>\n",
              "      <td>0</td>\n",
              "      <td>0</td>\n",
              "      <td>0</td>\n",
              "      <td>0</td>\n",
              "      <td>0</td>\n",
              "      <td>0</td>\n",
              "      <td>0</td>\n",
              "      <td>0</td>\n",
              "      <td>0</td>\n",
              "      <td>0</td>\n",
              "      <td>0</td>\n",
              "      <td>0</td>\n",
              "      <td>0</td>\n",
              "      <td>0</td>\n",
              "      <td>0</td>\n",
              "      <td>0</td>\n",
              "      <td>0</td>\n",
              "      <td>0</td>\n",
              "      <td>0</td>\n",
              "      <td>0</td>\n",
              "      <td>0</td>\n",
              "      <td>0</td>\n",
              "      <td>...</td>\n",
              "      <td>0</td>\n",
              "      <td>0</td>\n",
              "      <td>0</td>\n",
              "      <td>0</td>\n",
              "      <td>0</td>\n",
              "      <td>0</td>\n",
              "      <td>0</td>\n",
              "      <td>0</td>\n",
              "      <td>0</td>\n",
              "      <td>0</td>\n",
              "      <td>0</td>\n",
              "      <td>0</td>\n",
              "      <td>0</td>\n",
              "      <td>0</td>\n",
              "      <td>0</td>\n",
              "      <td>0</td>\n",
              "      <td>0</td>\n",
              "      <td>0</td>\n",
              "      <td>0</td>\n",
              "      <td>0</td>\n",
              "      <td>0</td>\n",
              "      <td>0</td>\n",
              "      <td>0</td>\n",
              "      <td>1</td>\n",
              "      <td>0</td>\n",
              "      <td>0</td>\n",
              "      <td>0</td>\n",
              "      <td>0</td>\n",
              "      <td>0</td>\n",
              "      <td>0</td>\n",
              "      <td>1</td>\n",
              "      <td>0</td>\n",
              "      <td>0</td>\n",
              "      <td>0</td>\n",
              "      <td>1</td>\n",
              "      <td>0</td>\n",
              "      <td>0</td>\n",
              "      <td>0</td>\n",
              "      <td>0</td>\n",
              "      <td>0</td>\n",
              "    </tr>\n",
              "    <tr>\n",
              "      <th>97711</th>\n",
              "      <td>2016</td>\n",
              "      <td>11472</td>\n",
              "      <td>125</td>\n",
              "      <td>57.6</td>\n",
              "      <td>1.7</td>\n",
              "      <td>0</td>\n",
              "      <td>0</td>\n",
              "      <td>0</td>\n",
              "      <td>0</td>\n",
              "      <td>0</td>\n",
              "      <td>0</td>\n",
              "      <td>0</td>\n",
              "      <td>0</td>\n",
              "      <td>0</td>\n",
              "      <td>0</td>\n",
              "      <td>0</td>\n",
              "      <td>0</td>\n",
              "      <td>0</td>\n",
              "      <td>0</td>\n",
              "      <td>0</td>\n",
              "      <td>0</td>\n",
              "      <td>0</td>\n",
              "      <td>0</td>\n",
              "      <td>0</td>\n",
              "      <td>0</td>\n",
              "      <td>0</td>\n",
              "      <td>0</td>\n",
              "      <td>0</td>\n",
              "      <td>0</td>\n",
              "      <td>0</td>\n",
              "      <td>0</td>\n",
              "      <td>0</td>\n",
              "      <td>0</td>\n",
              "      <td>0</td>\n",
              "      <td>0</td>\n",
              "      <td>0</td>\n",
              "      <td>0</td>\n",
              "      <td>0</td>\n",
              "      <td>0</td>\n",
              "      <td>0</td>\n",
              "      <td>...</td>\n",
              "      <td>0</td>\n",
              "      <td>0</td>\n",
              "      <td>0</td>\n",
              "      <td>0</td>\n",
              "      <td>0</td>\n",
              "      <td>0</td>\n",
              "      <td>0</td>\n",
              "      <td>0</td>\n",
              "      <td>0</td>\n",
              "      <td>0</td>\n",
              "      <td>0</td>\n",
              "      <td>0</td>\n",
              "      <td>0</td>\n",
              "      <td>0</td>\n",
              "      <td>0</td>\n",
              "      <td>0</td>\n",
              "      <td>0</td>\n",
              "      <td>0</td>\n",
              "      <td>0</td>\n",
              "      <td>0</td>\n",
              "      <td>0</td>\n",
              "      <td>0</td>\n",
              "      <td>1</td>\n",
              "      <td>0</td>\n",
              "      <td>0</td>\n",
              "      <td>0</td>\n",
              "      <td>1</td>\n",
              "      <td>0</td>\n",
              "      <td>0</td>\n",
              "      <td>0</td>\n",
              "      <td>0</td>\n",
              "      <td>0</td>\n",
              "      <td>0</td>\n",
              "      <td>0</td>\n",
              "      <td>1</td>\n",
              "      <td>0</td>\n",
              "      <td>0</td>\n",
              "      <td>0</td>\n",
              "      <td>0</td>\n",
              "      <td>0</td>\n",
              "    </tr>\n",
              "  </tbody>\n",
              "</table>\n",
              "<p>97712 rows × 218 columns</p>\n",
              "</div>"
            ],
            "text/plain": [
              "       year  mileage  ...  source_file_vauxhall  source_file_vw\n",
              "0      2016    24089  ...                     0               0\n",
              "1      2017    18615  ...                     0               0\n",
              "2      2015    27469  ...                     0               0\n",
              "3      2017    14736  ...                     0               0\n",
              "4      2017    36284  ...                     0               0\n",
              "...     ...      ...  ...                   ...             ...\n",
              "97707  2016    25906  ...                     0               0\n",
              "97708  2015    59508  ...                     0               0\n",
              "97709  2017    13810  ...                     0               0\n",
              "97710  2018    23313  ...                     0               0\n",
              "97711  2016    11472  ...                     0               0\n",
              "\n",
              "[97712 rows x 218 columns]"
            ]
          },
          "metadata": {
            "tags": []
          },
          "execution_count": 49
        }
      ]
    },
    {
      "cell_type": "code",
      "metadata": {
        "colab": {
          "base_uri": "https://localhost:8080/"
        },
        "id": "XlUpaUKuvSrk",
        "outputId": "af024474-858f-4347-a0b3-034710f8de50"
      },
      "source": [
        "y_targets = df_cars_all_brands['price']\n",
        "y_targets"
      ],
      "execution_count": null,
      "outputs": [
        {
          "output_type": "execute_result",
          "data": {
            "text/plain": [
              "0        16000\n",
              "1        15995\n",
              "2        13998\n",
              "3        18998\n",
              "4        17498\n",
              "         ...  \n",
              "97707     8680\n",
              "97708     7830\n",
              "97709     6830\n",
              "97710    13994\n",
              "97711    15999\n",
              "Name: price, Length: 97712, dtype: int64"
            ]
          },
          "metadata": {
            "tags": []
          },
          "execution_count": 50
        }
      ]
    },
    {
      "cell_type": "markdown",
      "metadata": {
        "id": "ReworAXfBbqV"
      },
      "source": [
        "<H3>Defining Train snd Test, Features and Targets<H3>"
      ]
    },
    {
      "cell_type": "code",
      "metadata": {
        "colab": {
          "base_uri": "https://localhost:8080/"
        },
        "id": "LpPMzev95nAz",
        "outputId": "ecbe9765-e080-4a1f-da31-96eefc731b52"
      },
      "source": [
        "x_train, x_test, y_train, y_test = train_test_split(x_encoded_train_predictors, y_targets, test_size=0.3)\n",
        "print(x_train.shape)\n",
        "print(y_train.shape)\n",
        "print(x_test.shape)\n",
        "print(y_test.shape)"
      ],
      "execution_count": null,
      "outputs": [
        {
          "output_type": "stream",
          "text": [
            "(68398, 218)\n",
            "(68398,)\n",
            "(29314, 218)\n",
            "(29314,)\n"
          ],
          "name": "stdout"
        }
      ]
    },
    {
      "cell_type": "markdown",
      "metadata": {
        "id": "XfBtA9AQBqkT"
      },
      "source": [
        "<H3>Defining Regressor’s<H3>"
      ]
    },
    {
      "cell_type": "code",
      "metadata": {
        "id": "rGexwe-UBC99"
      },
      "source": [
        "#Linear\n",
        "modelLinear = LinearRegression().fit(x_train, y_train)\n",
        "y_predict_linear = modelLinear.predict(x_test)"
      ],
      "execution_count": null,
      "outputs": []
    },
    {
      "cell_type": "code",
      "metadata": {
        "id": "lPi1svEoDDo1"
      },
      "source": [
        "#Lasso\n",
        "#Default alpha 1, with maximum penalties\n",
        "modelLasso = Lasso(max_iter=100000).fit(x_train, y_train)\n",
        "y_predict_lasso = modelLasso.predict(x_test)\n",
        "# Lasso Model: ConvergenceWarning: Objective did not converge. You might want to increase the number of iterations.\n",
        "# max_iter, default is 1,000, model will be adjusted to 100000"
      ],
      "execution_count": null,
      "outputs": []
    },
    {
      "cell_type": "code",
      "metadata": {
        "id": "DzBV-78pDrlQ"
      },
      "source": [
        "#Ridge\n",
        "modelRidge = Ridge(alpha=1).fit(x_train, y_train)\n",
        "y_predict_ridge = modelRidge.predict(x_test)"
      ],
      "execution_count": null,
      "outputs": []
    },
    {
      "cell_type": "markdown",
      "metadata": {
        "id": "cBB8Dz5cLh6a"
      },
      "source": [
        "# Model Evaluation"
      ]
    },
    {
      "cell_type": "markdown",
      "metadata": {
        "id": "uJGUIqAsIVx-"
      },
      "source": [
        "<H3>Model Metrics<H3>\n",
        "\n",
        "<a href=\"https://scikit-learn.org/stable/modules/generated/sklearn.metrics.mean_squared_error.html#sklearn.metrics.mean_squared_error\">MSE & RMSE</a>\n",
        "\n",
        "<a href=\"https://scikit-learn.org/stable/modules/generated/sklearn.metrics.mean_absolute_error.html#sklearn.metrics.mean_absolute_error\">MAE</a>\n",
        "\n",
        "<a href=\"https://scikit-learn.org/stable/modules/generated/sklearn.metrics.r2_score.html#sklearn.metrics.r2_score\">R2</a>\n"
      ]
    },
    {
      "cell_type": "code",
      "metadata": {
        "colab": {
          "base_uri": "https://localhost:8080/"
        },
        "id": "63SK9QHqIPlR",
        "outputId": "b88e4b23-a072-4b26-9f20-ae872fa45575"
      },
      "source": [
        "#Linear\n",
        "#MSE Mean Squared Error:\n",
        "mse_linear = mean_squared_error(y_test, y_predict_linear)\n",
        "#Root Mean Squared Error:\n",
        "rmse_linear = mean_squared_error(y_test, y_predict_linear, squared=False)\n",
        "#Mean Absolute Error\n",
        "mae_linear = mean_absolute_error(y_test, y_predict_linear)\n",
        "#R^2 (coefficient of determination) regression score function\n",
        "r2_linear = r2_score(y_test, y_predict_linear)\n",
        "print(\"MSE Linear Loss :\", mse_linear)\n",
        "print(\"RMSE Linear :\", rmse_linear)\n",
        "print(\"MAE Linear :\", mae_linear)\n",
        "print(\"R^2 Score :\", r2_linear)"
      ],
      "execution_count": null,
      "outputs": [
        {
          "output_type": "stream",
          "text": [
            "MSE Linear Loss : 14880134.402912663\n",
            "RMSE Linear : 3857.477725523851\n",
            "MAE Linear : 2300.049177162064\n",
            "R^2 Score : 0.8525787835424667\n"
          ],
          "name": "stdout"
        }
      ]
    },
    {
      "cell_type": "code",
      "metadata": {
        "colab": {
          "base_uri": "https://localhost:8080/"
        },
        "id": "HeFTWIA-Kz9_",
        "outputId": "116bc9e2-3381-46f0-d63c-04f4c734cd95"
      },
      "source": [
        "#Lasso\n",
        "#MSE Mean Squared Error:\n",
        "mse_lasso = mean_squared_error(y_test, y_predict_lasso)\n",
        "#Root Mean Squared Error:\n",
        "rmse_lasso = mean_squared_error(y_test, y_predict_lasso, squared=False)\n",
        "#Mean Absolute Error\n",
        "mae_lasso = mean_absolute_error(y_test, y_predict_lasso)\n",
        "#R^2 (coefficient of determination) regression score function\n",
        "r2_lasso = r2_score(y_test, y_predict_lasso)\n",
        "print(\"MSE Lasso Loss :\", mse_lasso)\n",
        "print(\"RMSE Lasso:\", rmse_lasso)\n",
        "print(\"MAE Lasso:\", mae_lasso)\n",
        "print(\"R^2 Lasso :\", r2_lasso)"
      ],
      "execution_count": null,
      "outputs": [
        {
          "output_type": "stream",
          "text": [
            "MSE Lasso Loss : 15442647.322560927\n",
            "RMSE Lasso: 3929.7133893658106\n",
            "MAE Lasso: 2343.981765846866\n",
            "R^2 Lasso : 0.8470058272342633\n"
          ],
          "name": "stdout"
        }
      ]
    },
    {
      "cell_type": "code",
      "metadata": {
        "colab": {
          "base_uri": "https://localhost:8080/"
        },
        "id": "ylny7VxIWiiD",
        "outputId": "6a71b848-0094-454b-8a3b-26c635e5b6cf"
      },
      "source": [
        "#Ridge\n",
        "#MSE Mean Squared Error:\n",
        "mse_ridge = mean_squared_error(y_test, y_predict_ridge)\n",
        "#Root Mean Squared Error:\n",
        "rmse_ridge = mean_squared_error(y_test, y_predict_ridge, squared=False)\n",
        "#Mean Absolute Error\n",
        "mae_ridge = mean_absolute_error(y_test, y_predict_ridge)\n",
        "#R^2 (coefficient of determination) regression score function\n",
        "r2_ridge = r2_score(y_test, y_predict_ridge)\n",
        "print(\"MSE Ridge Loss :\", mse_ridge)\n",
        "print(\"RMSE Ridge:\", rmse_ridge)\n",
        "print(\"MAE Ridge:\", mae_ridge)\n",
        "print(\"R^2 Ridge :\", r2_ridge)"
      ],
      "execution_count": null,
      "outputs": [
        {
          "output_type": "stream",
          "text": [
            "MSE Ridge Loss : 14953196.277037412\n",
            "RMSE Ridge: 3866.9362907911236\n",
            "MAE Ridge: 2302.2564068704014\n",
            "R^2 Ridge : 0.8518549412660132\n"
          ],
          "name": "stdout"
        }
      ]
    },
    {
      "cell_type": "markdown",
      "metadata": {
        "id": "9edwHizhCfc0"
      },
      "source": [
        "<H4>Models Coefficients<H4>"
      ]
    },
    {
      "cell_type": "code",
      "metadata": {
        "colab": {
          "base_uri": "https://localhost:8080/"
        },
        "id": "0qPPIReypkuv",
        "outputId": "1dc79be7-2ac0-4250-d464-a8530246d1e9"
      },
      "source": [
        "x_encoded_train_predictors.columns"
      ],
      "execution_count": null,
      "outputs": [
        {
          "output_type": "execute_result",
          "data": {
            "text/plain": [
              "Index(['year', 'mileage', 'tax', 'mpg', 'engineSize', 'model_ 1 Series',\n",
              "       'model_ 2 Series', 'model_ 3 Series', 'model_ 4 Series',\n",
              "       'model_ 5 Series',\n",
              "       ...\n",
              "       'fuelType_Petrol', 'source_file_audi', 'source_file_bmw',\n",
              "       'source_file_ford', 'source_file_hyundai', 'source_file_merc',\n",
              "       'source_file_skoda', 'source_file_toyota', 'source_file_vauxhall',\n",
              "       'source_file_vw'],\n",
              "      dtype='object', length=218)"
            ]
          },
          "metadata": {
            "tags": []
          },
          "execution_count": 166
        }
      ]
    },
    {
      "cell_type": "code",
      "metadata": {
        "colab": {
          "base_uri": "https://localhost:8080/"
        },
        "id": "T_7qYKs5qtxs",
        "outputId": "32cbf672-9fbd-4902-a622-e707540403a1"
      },
      "source": [
        "print(len(x_encoded_train_predictors.columns))\n",
        "print(len(modelLinear.coef_))\n",
        "print(len(modelLasso.coef_))\n",
        "print(len(modelRidge.coef_))"
      ],
      "execution_count": null,
      "outputs": [
        {
          "output_type": "stream",
          "text": [
            "218\n",
            "218\n",
            "218\n",
            "218\n"
          ],
          "name": "stdout"
        }
      ]
    },
    {
      "cell_type": "code",
      "metadata": {
        "id": "HdaKqbFSs7dJ"
      },
      "source": [
        "features_array = np.array(x_encoded_train_predictors.columns)\n",
        "linear_coefficients = modelLinear.coef_\n",
        "lasso_coefficients = modelLasso.coef_\n",
        "ridge_coefficients = modelRidge.coef_"
      ],
      "execution_count": null,
      "outputs": []
    },
    {
      "cell_type": "code",
      "metadata": {
        "id": "dmp7GbeJ_aP-"
      },
      "source": [
        "dict_coef = { \"Features\" : features_array,\n",
        "             \"Linear\" : linear_coefficients,\n",
        "             \"Lasso\" : lasso_coefficients,\n",
        "             \"Ridge\" : ridge_coefficients\n",
        "             }"
      ],
      "execution_count": null,
      "outputs": []
    },
    {
      "cell_type": "markdown",
      "metadata": {
        "id": "_4s-W_eDK68q"
      },
      "source": [
        "<H4>Feature Importance<H4>"
      ]
    },
    {
      "cell_type": "code",
      "metadata": {
        "colab": {
          "base_uri": "https://localhost:8080/",
          "height": 675
        },
        "id": "xv--wIeEAfJf",
        "outputId": "80553290-b911-4fd4-f512-131eb46a24b4"
      },
      "source": [
        "df_models_coefficients = pd.DataFrame(dict_coef)\n",
        "df_models_coefficients['avg_weight'] = df_models_coefficients.mean(axis=1)\n",
        "df_models_coefficients = df_models_coefficients.sort_values(by=['avg_weight'], ascending=False)\n",
        "df_models_coefficients.head(20)"
      ],
      "execution_count": null,
      "outputs": [
        {
          "output_type": "execute_result",
          "data": {
            "text/html": [
              "<div>\n",
              "<style scoped>\n",
              "    .dataframe tbody tr th:only-of-type {\n",
              "        vertical-align: middle;\n",
              "    }\n",
              "\n",
              "    .dataframe tbody tr th {\n",
              "        vertical-align: top;\n",
              "    }\n",
              "\n",
              "    .dataframe thead th {\n",
              "        text-align: right;\n",
              "    }\n",
              "</style>\n",
              "<table border=\"1\" class=\"dataframe\">\n",
              "  <thead>\n",
              "    <tr style=\"text-align: right;\">\n",
              "      <th></th>\n",
              "      <th>Features</th>\n",
              "      <th>Linear</th>\n",
              "      <th>Lasso</th>\n",
              "      <th>Ridge</th>\n",
              "      <th>avg_weight</th>\n",
              "    </tr>\n",
              "  </thead>\n",
              "  <tbody>\n",
              "    <tr>\n",
              "      <th>129</th>\n",
              "      <td>model_ R8</td>\n",
              "      <td>49085.093456</td>\n",
              "      <td>49140.327405</td>\n",
              "      <td>46618.798276</td>\n",
              "      <td>48281.406379</td>\n",
              "    </tr>\n",
              "    <tr>\n",
              "      <th>69</th>\n",
              "      <td>model_ G Class</td>\n",
              "      <td>40788.517134</td>\n",
              "      <td>35589.779217</td>\n",
              "      <td>36515.001545</td>\n",
              "      <td>37631.099299</td>\n",
              "    </tr>\n",
              "    <tr>\n",
              "      <th>50</th>\n",
              "      <td>model_ California</td>\n",
              "      <td>33155.404730</td>\n",
              "      <td>26002.684802</td>\n",
              "      <td>29599.411412</td>\n",
              "      <td>29585.833648</td>\n",
              "    </tr>\n",
              "    <tr>\n",
              "      <th>194</th>\n",
              "      <td>model_ i3</td>\n",
              "      <td>29405.938413</td>\n",
              "      <td>31278.246790</td>\n",
              "      <td>27634.076355</td>\n",
              "      <td>29439.420519</td>\n",
              "    </tr>\n",
              "    <tr>\n",
              "      <th>195</th>\n",
              "      <td>model_ i8</td>\n",
              "      <td>28715.993598</td>\n",
              "      <td>27859.092462</td>\n",
              "      <td>26611.240731</td>\n",
              "      <td>27728.775597</td>\n",
              "    </tr>\n",
              "    <tr>\n",
              "      <th>186</th>\n",
              "      <td>model_ X7</td>\n",
              "      <td>26840.193042</td>\n",
              "      <td>29546.484257</td>\n",
              "      <td>26444.911195</td>\n",
              "      <td>27610.529498</td>\n",
              "    </tr>\n",
              "    <tr>\n",
              "      <th>127</th>\n",
              "      <td>model_ Q8</td>\n",
              "      <td>17245.437908</td>\n",
              "      <td>20050.990159</td>\n",
              "      <td>16933.166390</td>\n",
              "      <td>18076.531486</td>\n",
              "    </tr>\n",
              "    <tr>\n",
              "      <th>12</th>\n",
              "      <td>model_ 8 Series</td>\n",
              "      <td>17439.685660</td>\n",
              "      <td>18953.719133</td>\n",
              "      <td>16950.521879</td>\n",
              "      <td>17781.308891</td>\n",
              "    </tr>\n",
              "    <tr>\n",
              "      <th>52</th>\n",
              "      <td>model_ Caravelle</td>\n",
              "      <td>15341.865935</td>\n",
              "      <td>15766.529061</td>\n",
              "      <td>15268.600035</td>\n",
              "      <td>15458.998344</td>\n",
              "    </tr>\n",
              "    <tr>\n",
              "      <th>134</th>\n",
              "      <td>model_ RS6</td>\n",
              "      <td>15281.529113</td>\n",
              "      <td>16266.908872</td>\n",
              "      <td>14596.347965</td>\n",
              "      <td>15381.595316</td>\n",
              "    </tr>\n",
              "    <tr>\n",
              "      <th>105</th>\n",
              "      <td>model_ Land Cruiser</td>\n",
              "      <td>13931.187288</td>\n",
              "      <td>13218.718999</td>\n",
              "      <td>13623.316148</td>\n",
              "      <td>13591.074145</td>\n",
              "    </tr>\n",
              "    <tr>\n",
              "      <th>156</th>\n",
              "      <td>model_ Supra</td>\n",
              "      <td>16447.965081</td>\n",
              "      <td>8041.610738</td>\n",
              "      <td>14436.932235</td>\n",
              "      <td>12975.502685</td>\n",
              "    </tr>\n",
              "    <tr>\n",
              "      <th>75</th>\n",
              "      <td>model_ GLS Class</td>\n",
              "      <td>12621.552037</td>\n",
              "      <td>14001.681047</td>\n",
              "      <td>12232.301698</td>\n",
              "      <td>12951.844927</td>\n",
              "    </tr>\n",
              "    <tr>\n",
              "      <th>132</th>\n",
              "      <td>model_ RS4</td>\n",
              "      <td>11064.517475</td>\n",
              "      <td>12238.538259</td>\n",
              "      <td>10588.350853</td>\n",
              "      <td>11297.135529</td>\n",
              "    </tr>\n",
              "    <tr>\n",
              "      <th>110</th>\n",
              "      <td>model_ M5</td>\n",
              "      <td>11004.750509</td>\n",
              "      <td>11830.064887</td>\n",
              "      <td>10640.342609</td>\n",
              "      <td>11158.386001</td>\n",
              "    </tr>\n",
              "    <tr>\n",
              "      <th>27</th>\n",
              "      <td>model_ Ampera</td>\n",
              "      <td>19657.575038</td>\n",
              "      <td>0.000000</td>\n",
              "      <td>12383.379601</td>\n",
              "      <td>10680.318213</td>\n",
              "    </tr>\n",
              "    <tr>\n",
              "      <th>133</th>\n",
              "      <td>model_ RS5</td>\n",
              "      <td>9731.073364</td>\n",
              "      <td>11114.950139</td>\n",
              "      <td>9340.060015</td>\n",
              "      <td>10062.027839</td>\n",
              "    </tr>\n",
              "    <tr>\n",
              "      <th>139</th>\n",
              "      <td>model_ S Class</td>\n",
              "      <td>9197.473705</td>\n",
              "      <td>11325.745596</td>\n",
              "      <td>8930.267256</td>\n",
              "      <td>9817.828852</td>\n",
              "    </tr>\n",
              "    <tr>\n",
              "      <th>210</th>\n",
              "      <td>source_file_bmw</td>\n",
              "      <td>8584.280566</td>\n",
              "      <td>8298.188544</td>\n",
              "      <td>8513.898720</td>\n",
              "      <td>8465.455943</td>\n",
              "    </tr>\n",
              "    <tr>\n",
              "      <th>209</th>\n",
              "      <td>source_file_audi</td>\n",
              "      <td>7849.494040</td>\n",
              "      <td>7651.183509</td>\n",
              "      <td>7973.339992</td>\n",
              "      <td>7824.672514</td>\n",
              "    </tr>\n",
              "  </tbody>\n",
              "</table>\n",
              "</div>"
            ],
            "text/plain": [
              "                Features        Linear  ...         Ridge    avg_weight\n",
              "129            model_ R8  49085.093456  ...  46618.798276  48281.406379\n",
              "69        model_ G Class  40788.517134  ...  36515.001545  37631.099299\n",
              "50     model_ California  33155.404730  ...  29599.411412  29585.833648\n",
              "194            model_ i3  29405.938413  ...  27634.076355  29439.420519\n",
              "195            model_ i8  28715.993598  ...  26611.240731  27728.775597\n",
              "186            model_ X7  26840.193042  ...  26444.911195  27610.529498\n",
              "127            model_ Q8  17245.437908  ...  16933.166390  18076.531486\n",
              "12       model_ 8 Series  17439.685660  ...  16950.521879  17781.308891\n",
              "52      model_ Caravelle  15341.865935  ...  15268.600035  15458.998344\n",
              "134           model_ RS6  15281.529113  ...  14596.347965  15381.595316\n",
              "105  model_ Land Cruiser  13931.187288  ...  13623.316148  13591.074145\n",
              "156         model_ Supra  16447.965081  ...  14436.932235  12975.502685\n",
              "75      model_ GLS Class  12621.552037  ...  12232.301698  12951.844927\n",
              "132           model_ RS4  11064.517475  ...  10588.350853  11297.135529\n",
              "110            model_ M5  11004.750509  ...  10640.342609  11158.386001\n",
              "27         model_ Ampera  19657.575038  ...  12383.379601  10680.318213\n",
              "133           model_ RS5   9731.073364  ...   9340.060015  10062.027839\n",
              "139       model_ S Class   9197.473705  ...   8930.267256   9817.828852\n",
              "210      source_file_bmw   8584.280566  ...   8513.898720   8465.455943\n",
              "209     source_file_audi   7849.494040  ...   7973.339992   7824.672514\n",
              "\n",
              "[20 rows x 5 columns]"
            ]
          },
          "metadata": {
            "tags": []
          },
          "execution_count": 180
        }
      ]
    },
    {
      "cell_type": "code",
      "metadata": {
        "colab": {
          "base_uri": "https://localhost:8080/",
          "height": 831
        },
        "id": "C-W7Pp2IHTus",
        "outputId": "98005ce2-ce99-487b-c40e-1c280d42f29f"
      },
      "source": [
        "df_models_coefficients.tail(25)"
      ],
      "execution_count": null,
      "outputs": [
        {
          "output_type": "execute_result",
          "data": {
            "text/html": [
              "<div>\n",
              "<style scoped>\n",
              "    .dataframe tbody tr th:only-of-type {\n",
              "        vertical-align: middle;\n",
              "    }\n",
              "\n",
              "    .dataframe tbody tr th {\n",
              "        vertical-align: top;\n",
              "    }\n",
              "\n",
              "    .dataframe thead th {\n",
              "        text-align: right;\n",
              "    }\n",
              "</style>\n",
              "<table border=\"1\" class=\"dataframe\">\n",
              "  <thead>\n",
              "    <tr style=\"text-align: right;\">\n",
              "      <th></th>\n",
              "      <th>Features</th>\n",
              "      <th>Linear</th>\n",
              "      <th>Lasso</th>\n",
              "      <th>Ridge</th>\n",
              "      <th>avg_weight</th>\n",
              "    </tr>\n",
              "  </thead>\n",
              "  <tbody>\n",
              "    <tr>\n",
              "      <th>33</th>\n",
              "      <td>model_ Aygo</td>\n",
              "      <td>-5701.640122</td>\n",
              "      <td>-3545.758011</td>\n",
              "      <td>-5565.538678</td>\n",
              "      <td>-4937.645604</td>\n",
              "    </tr>\n",
              "    <tr>\n",
              "      <th>124</th>\n",
              "      <td>model_ Q3</td>\n",
              "      <td>-6961.070306</td>\n",
              "      <td>-2195.254542</td>\n",
              "      <td>-6875.912756</td>\n",
              "      <td>-5344.079201</td>\n",
              "    </tr>\n",
              "    <tr>\n",
              "      <th>19</th>\n",
              "      <td>model_ A6</td>\n",
              "      <td>-6954.881255</td>\n",
              "      <td>-2321.000735</td>\n",
              "      <td>-6894.426907</td>\n",
              "      <td>-5390.102966</td>\n",
              "    </tr>\n",
              "    <tr>\n",
              "      <th>187</th>\n",
              "      <td>model_ Yaris</td>\n",
              "      <td>-6335.388906</td>\n",
              "      <td>-4289.521029</td>\n",
              "      <td>-6198.299809</td>\n",
              "      <td>-5607.736581</td>\n",
              "    </tr>\n",
              "    <tr>\n",
              "      <th>71</th>\n",
              "      <td>model_ GLA Class</td>\n",
              "      <td>-6652.948387</td>\n",
              "      <td>-3409.106174</td>\n",
              "      <td>-6763.436330</td>\n",
              "      <td>-5608.496964</td>\n",
              "    </tr>\n",
              "    <tr>\n",
              "      <th>159</th>\n",
              "      <td>model_ TT</td>\n",
              "      <td>-7401.960397</td>\n",
              "      <td>-2472.398261</td>\n",
              "      <td>-7315.634159</td>\n",
              "      <td>-5729.997606</td>\n",
              "    </tr>\n",
              "    <tr>\n",
              "      <th>18</th>\n",
              "      <td>model_ A5</td>\n",
              "      <td>-7620.506400</td>\n",
              "      <td>-2950.588248</td>\n",
              "      <td>-7559.663920</td>\n",
              "      <td>-6043.586189</td>\n",
              "    </tr>\n",
              "    <tr>\n",
              "      <th>181</th>\n",
              "      <td>model_ X2</td>\n",
              "      <td>-7835.886618</td>\n",
              "      <td>-2780.185813</td>\n",
              "      <td>-7542.961475</td>\n",
              "      <td>-6053.011302</td>\n",
              "    </tr>\n",
              "    <tr>\n",
              "      <th>191</th>\n",
              "      <td>model_ Z4</td>\n",
              "      <td>-7986.473014</td>\n",
              "      <td>-2519.949829</td>\n",
              "      <td>-7656.207664</td>\n",
              "      <td>-6054.210169</td>\n",
              "    </tr>\n",
              "    <tr>\n",
              "      <th>144</th>\n",
              "      <td>model_ S8</td>\n",
              "      <td>-10672.184003</td>\n",
              "      <td>-0.000000</td>\n",
              "      <td>-8068.244906</td>\n",
              "      <td>-6246.809636</td>\n",
              "    </tr>\n",
              "    <tr>\n",
              "      <th>34</th>\n",
              "      <td>model_ B Class</td>\n",
              "      <td>-7520.667677</td>\n",
              "      <td>-4116.663544</td>\n",
              "      <td>-7609.297634</td>\n",
              "      <td>-6415.542952</td>\n",
              "    </tr>\n",
              "    <tr>\n",
              "      <th>98</th>\n",
              "      <td>model_ Ka+</td>\n",
              "      <td>-6946.736359</td>\n",
              "      <td>-5869.538079</td>\n",
              "      <td>-6820.011550</td>\n",
              "      <td>-6545.428663</td>\n",
              "    </tr>\n",
              "    <tr>\n",
              "      <th>123</th>\n",
              "      <td>model_ Q2</td>\n",
              "      <td>-8304.587514</td>\n",
              "      <td>-3409.192897</td>\n",
              "      <td>-8205.634646</td>\n",
              "      <td>-6639.805019</td>\n",
              "    </tr>\n",
              "    <tr>\n",
              "      <th>170</th>\n",
              "      <td>model_ Up</td>\n",
              "      <td>-7812.392095</td>\n",
              "      <td>-5734.874525</td>\n",
              "      <td>-7648.558686</td>\n",
              "      <td>-7065.275102</td>\n",
              "    </tr>\n",
              "    <tr>\n",
              "      <th>143</th>\n",
              "      <td>model_ S5</td>\n",
              "      <td>-12344.947959</td>\n",
              "      <td>-0.000000</td>\n",
              "      <td>-9278.963102</td>\n",
              "      <td>-7207.970353</td>\n",
              "    </tr>\n",
              "    <tr>\n",
              "      <th>9</th>\n",
              "      <td>model_ 5 Series</td>\n",
              "      <td>-8865.097218</td>\n",
              "      <td>-4198.221677</td>\n",
              "      <td>-8635.401971</td>\n",
              "      <td>-7232.906955</td>\n",
              "    </tr>\n",
              "    <tr>\n",
              "      <th>17</th>\n",
              "      <td>model_ A4</td>\n",
              "      <td>-9285.886446</td>\n",
              "      <td>-4599.147216</td>\n",
              "      <td>-9223.658040</td>\n",
              "      <td>-7702.897234</td>\n",
              "    </tr>\n",
              "    <tr>\n",
              "      <th>16</th>\n",
              "      <td>model_ A3</td>\n",
              "      <td>-9682.953509</td>\n",
              "      <td>-4859.224853</td>\n",
              "      <td>-9606.314796</td>\n",
              "      <td>-8049.497719</td>\n",
              "    </tr>\n",
              "    <tr>\n",
              "      <th>180</th>\n",
              "      <td>model_ X1</td>\n",
              "      <td>-10104.329725</td>\n",
              "      <td>-5300.945886</td>\n",
              "      <td>-9838.541337</td>\n",
              "      <td>-8414.605649</td>\n",
              "    </tr>\n",
              "    <tr>\n",
              "      <th>10</th>\n",
              "      <td>model_ 6 Series</td>\n",
              "      <td>-10716.804789</td>\n",
              "      <td>-5377.398349</td>\n",
              "      <td>-10369.342908</td>\n",
              "      <td>-8821.182016</td>\n",
              "    </tr>\n",
              "    <tr>\n",
              "      <th>8</th>\n",
              "      <td>model_ 4 Series</td>\n",
              "      <td>-10698.078841</td>\n",
              "      <td>-6034.328552</td>\n",
              "      <td>-10463.401504</td>\n",
              "      <td>-9065.269632</td>\n",
              "    </tr>\n",
              "    <tr>\n",
              "      <th>7</th>\n",
              "      <td>model_ 3 Series</td>\n",
              "      <td>-10812.819535</td>\n",
              "      <td>-6160.628704</td>\n",
              "      <td>-10579.939444</td>\n",
              "      <td>-9184.462561</td>\n",
              "    </tr>\n",
              "    <tr>\n",
              "      <th>14</th>\n",
              "      <td>model_ A1</td>\n",
              "      <td>-11650.441620</td>\n",
              "      <td>-6681.869876</td>\n",
              "      <td>-11563.038914</td>\n",
              "      <td>-9965.116803</td>\n",
              "    </tr>\n",
              "    <tr>\n",
              "      <th>6</th>\n",
              "      <td>model_ 2 Series</td>\n",
              "      <td>-12430.969493</td>\n",
              "      <td>-7625.979886</td>\n",
              "      <td>-12175.338628</td>\n",
              "      <td>-10744.096002</td>\n",
              "    </tr>\n",
              "    <tr>\n",
              "      <th>5</th>\n",
              "      <td>model_ 1 Series</td>\n",
              "      <td>-12958.518218</td>\n",
              "      <td>-8159.259064</td>\n",
              "      <td>-12704.048117</td>\n",
              "      <td>-11273.941800</td>\n",
              "    </tr>\n",
              "  </tbody>\n",
              "</table>\n",
              "</div>"
            ],
            "text/plain": [
              "             Features        Linear        Lasso         Ridge    avg_weight\n",
              "33        model_ Aygo  -5701.640122 -3545.758011  -5565.538678  -4937.645604\n",
              "124         model_ Q3  -6961.070306 -2195.254542  -6875.912756  -5344.079201\n",
              "19          model_ A6  -6954.881255 -2321.000735  -6894.426907  -5390.102966\n",
              "187      model_ Yaris  -6335.388906 -4289.521029  -6198.299809  -5607.736581\n",
              "71   model_ GLA Class  -6652.948387 -3409.106174  -6763.436330  -5608.496964\n",
              "159         model_ TT  -7401.960397 -2472.398261  -7315.634159  -5729.997606\n",
              "18          model_ A5  -7620.506400 -2950.588248  -7559.663920  -6043.586189\n",
              "181         model_ X2  -7835.886618 -2780.185813  -7542.961475  -6053.011302\n",
              "191         model_ Z4  -7986.473014 -2519.949829  -7656.207664  -6054.210169\n",
              "144         model_ S8 -10672.184003    -0.000000  -8068.244906  -6246.809636\n",
              "34     model_ B Class  -7520.667677 -4116.663544  -7609.297634  -6415.542952\n",
              "98         model_ Ka+  -6946.736359 -5869.538079  -6820.011550  -6545.428663\n",
              "123         model_ Q2  -8304.587514 -3409.192897  -8205.634646  -6639.805019\n",
              "170         model_ Up  -7812.392095 -5734.874525  -7648.558686  -7065.275102\n",
              "143         model_ S5 -12344.947959    -0.000000  -9278.963102  -7207.970353\n",
              "9     model_ 5 Series  -8865.097218 -4198.221677  -8635.401971  -7232.906955\n",
              "17          model_ A4  -9285.886446 -4599.147216  -9223.658040  -7702.897234\n",
              "16          model_ A3  -9682.953509 -4859.224853  -9606.314796  -8049.497719\n",
              "180         model_ X1 -10104.329725 -5300.945886  -9838.541337  -8414.605649\n",
              "10    model_ 6 Series -10716.804789 -5377.398349 -10369.342908  -8821.182016\n",
              "8     model_ 4 Series -10698.078841 -6034.328552 -10463.401504  -9065.269632\n",
              "7     model_ 3 Series -10812.819535 -6160.628704 -10579.939444  -9184.462561\n",
              "14          model_ A1 -11650.441620 -6681.869876 -11563.038914  -9965.116803\n",
              "6     model_ 2 Series -12430.969493 -7625.979886 -12175.338628 -10744.096002\n",
              "5     model_ 1 Series -12958.518218 -8159.259064 -12704.048117 -11273.941800"
            ]
          },
          "metadata": {
            "tags": []
          },
          "execution_count": 181
        }
      ]
    },
    {
      "cell_type": "markdown",
      "metadata": {
        "id": "ROCrea1s6OZ1"
      },
      "source": [
        "# SQL Routine with Model Validation Values"
      ]
    },
    {
      "cell_type": "markdown",
      "metadata": {
        "id": "PDC3jppF6mtG"
      },
      "source": [
        "Click Here:\n",
        "\n",
        "https://github.com/GerardoMayel/manager_challenge/blob/main/pricing_model_gentera_test.sql"
      ]
    }
  ]
}